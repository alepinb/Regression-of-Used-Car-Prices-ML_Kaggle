{
 "cells": [
  {
   "cell_type": "markdown",
   "metadata": {},
   "source": [
    "## Carga de librerías"
   ]
  },
  {
   "cell_type": "code",
   "execution_count": 34,
   "metadata": {},
   "outputs": [],
   "source": [
    "import pandas as pd\n",
    "import os\n",
    "from sklearn.ensemble import RandomForestRegressor\n",
    "from sklearn.model_selection import cross_val_score\n",
    "from sklearn.model_selection import GridSearchCV\n",
    "from sklearn.linear_model import LinearRegression\n",
    "from sklearn.metrics import make_scorer, mean_squared_error, r2_score\n",
    "import numpy as np"
   ]
  },
  {
   "cell_type": "markdown",
   "metadata": {},
   "source": [
    "## Carga de datos X_train_features.csv, y_train y X_test y  mostrar primeras filas del dataset"
   ]
  },
  {
   "cell_type": "code",
   "execution_count": 13,
   "metadata": {},
   "outputs": [
    {
     "name": "stdout",
     "output_type": "stream",
     "text": [
      "C:\\Users\\Administrator\\Documents\\Proyecto regresion precio coches\\proyecto_regresion\\data\\X_train_features.csv\n",
      "C:\\Users\\Administrator\\Documents\\Proyecto regresion precio coches\\proyecto_regresion\\data\\y_train.csv\n",
      "C:\\Users\\Administrator\\Documents\\Proyecto regresion precio coches\\proyecto_regresion\\data\\X_test_clean.csv\n",
      "   brand  model    milage  fuel_type  engine  transmission  ext_col  int_col  \\\n",
      "0   1064    578  2.957842     171023     344         49904      978    21204   \n",
      "1   2423     29  1.557184     171023      79         49904    16995    24495   \n",
      "2  16335     62  1.426276       5406     784         49904    14555    21204   \n",
      "3    969     95 -0.927854     171023     188         19255    48658   107674   \n",
      "4  19172    521 -1.171076     171023     691         11124    48658    24495   \n",
      "\n",
      "   accident  clean_title  age  \n",
      "0    146966       188533   17  \n",
      "1     41567       188533   22  \n",
      "2    146966       188533   22  \n",
      "3    146966       188533    7  \n",
      "4    146966       188533    3  \n"
     ]
    }
   ],
   "source": [
    "ruta_absoluta = os.path.abspath(r'C:\\Users\\Administrator\\Documents\\Proyecto regresion precio coches\\proyecto_regresion\\data\\X_train_features.csv')\n",
    "print(ruta_absoluta)\n",
    "\n",
    "X_features = pd.read_csv(ruta_absoluta)\n",
    "\n",
    "ruta_absoluta = os.path.abspath(r'C:\\Users\\Administrator\\Documents\\Proyecto regresion precio coches\\proyecto_regresion\\data\\y_train.csv')\n",
    "print(ruta_absoluta)\n",
    "\n",
    "y_train = pd.read_csv(ruta_absoluta)\n",
    "\n",
    "ruta_absoluta = os.path.abspath(r'C:\\Users\\Administrator\\Documents\\Proyecto regresion precio coches\\proyecto_regresion\\data\\X_test_clean.csv')\n",
    "print(ruta_absoluta)\n",
    "\n",
    "X_test = pd.read_csv(ruta_absoluta)\n",
    "\n",
    "# Mostrar las primeras filas del DataFrame\n",
    "print(X_features.head())"
   ]
  },
  {
   "cell_type": "markdown",
   "metadata": {},
   "source": [
    "## Cargar X_features_pca y X_test_pca"
   ]
  },
  {
   "cell_type": "code",
   "execution_count": 23,
   "metadata": {},
   "outputs": [
    {
     "name": "stdout",
     "output_type": "stream",
     "text": [
      "C:\\Users\\Administrator\\Documents\\Proyecto regresion precio coches\\proyecto_regresion\\data\\X_train_pca_df.csv\n",
      "C:\\Users\\Administrator\\Documents\\Proyecto regresion precio coches\\proyecto_regresion\\data\\X_test_pca_df.csv\n",
      "   brand  model    milage  fuel_type  engine  transmission  ext_col  int_col  \\\n",
      "0   1064    578  2.957842     171023     344         49904      978    21204   \n",
      "1   2423     29  1.557184     171023      79         49904    16995    24495   \n",
      "2  16335     62  1.426276       5406     784         49904    14555    21204   \n",
      "3    969     95 -0.927854     171023     188         19255    48658   107674   \n",
      "4  19172    521 -1.171076     171023     691         11124    48658    24495   \n",
      "\n",
      "   accident  clean_title  age  \n",
      "0    146966       188533   17  \n",
      "1     41567       188533   22  \n",
      "2    146966       188533   22  \n",
      "3    146966       188533    7  \n",
      "4    146966       188533    3  \n"
     ]
    }
   ],
   "source": [
    "ruta_absoluta = os.path.abspath(r'C:\\Users\\Administrator\\Documents\\Proyecto regresion precio coches\\proyecto_regresion\\data\\X_train_pca_df.csv')\n",
    "print(ruta_absoluta)\n",
    "\n",
    "X_features_pca = pd.read_csv(ruta_absoluta)\n",
    "\n",
    "ruta_absoluta = os.path.abspath(r'C:\\Users\\Administrator\\Documents\\Proyecto regresion precio coches\\proyecto_regresion\\data\\X_test_pca_df.csv')\n",
    "print(ruta_absoluta)\n",
    "\n",
    "X_test_pca = pd.read_csv(ruta_absoluta)\n",
    "\n",
    "# Mostrar las primeras filas del DataFrame\n",
    "print(X_features.head())"
   ]
  },
  {
   "cell_type": "markdown",
   "metadata": {},
   "source": [
    "## Validación cruzada de random forest sin PCA"
   ]
  },
  {
   "cell_type": "code",
   "execution_count": 21,
   "metadata": {},
   "outputs": [
    {
     "name": "stderr",
     "output_type": "stream",
     "text": [
      "c:\\Users\\Administrator\\Documents\\Proyecto regresion precio coches\\myenv\\Lib\\site-packages\\sklearn\\base.py:1473: DataConversionWarning: A column-vector y was passed when a 1d array was expected. Please change the shape of y to (n_samples,), for example using ravel().\n",
      "  return fit_method(estimator, *args, **kwargs)\n",
      "c:\\Users\\Administrator\\Documents\\Proyecto regresion precio coches\\myenv\\Lib\\site-packages\\sklearn\\base.py:1473: DataConversionWarning: A column-vector y was passed when a 1d array was expected. Please change the shape of y to (n_samples,), for example using ravel().\n",
      "  return fit_method(estimator, *args, **kwargs)\n",
      "c:\\Users\\Administrator\\Documents\\Proyecto regresion precio coches\\myenv\\Lib\\site-packages\\sklearn\\base.py:1473: DataConversionWarning: A column-vector y was passed when a 1d array was expected. Please change the shape of y to (n_samples,), for example using ravel().\n",
      "  return fit_method(estimator, *args, **kwargs)\n",
      "c:\\Users\\Administrator\\Documents\\Proyecto regresion precio coches\\myenv\\Lib\\site-packages\\sklearn\\base.py:1473: DataConversionWarning: A column-vector y was passed when a 1d array was expected. Please change the shape of y to (n_samples,), for example using ravel().\n",
      "  return fit_method(estimator, *args, **kwargs)\n",
      "c:\\Users\\Administrator\\Documents\\Proyecto regresion precio coches\\myenv\\Lib\\site-packages\\sklearn\\base.py:1473: DataConversionWarning: A column-vector y was passed when a 1d array was expected. Please change the shape of y to (n_samples,), for example using ravel().\n",
      "  return fit_method(estimator, *args, **kwargs)\n"
     ]
    },
    {
     "name": "stdout",
     "output_type": "stream",
     "text": [
      "Scores de validación cruzada: [-5.79316014e+09 -6.73228596e+09 -6.50299110e+09 -5.20465626e+09\n",
      " -6.23130966e+09]\n",
      "Precisión promedio: -6092880623.519808\n"
     ]
    }
   ],
   "source": [
    "\n",
    "# Definir el modelo\n",
    "model = RandomForestRegressor(n_estimators=100, random_state=42)\n",
    "\n",
    "# Realizar la validación cruzada\n",
    "scores = cross_val_score(model, X_features, y_train, cv=5, scoring='neg_mean_squared_error')  # Cambia 'r2' por 'neg_mean_squared_error' si prefieres\n",
    "\n",
    "# Mostrar los resultados\n",
    "print(\"Scores de validación cruzada:\", scores)\n",
    "print(\"Precisión promedio:\", scores.mean())\n"
   ]
  },
  {
   "cell_type": "markdown",
   "metadata": {},
   "source": [
    "## Validación cruzada con regresión lineal"
   ]
  },
  {
   "cell_type": "code",
   "execution_count": 25,
   "metadata": {},
   "outputs": [
    {
     "name": "stdout",
     "output_type": "stream",
     "text": [
      "MSE por pliegue: [5.45368298e+09 6.19751058e+09 6.00419732e+09 4.71154105e+09\n",
      " 5.98123568e+09]\n",
      "Promedio de MSE: 5669633520.650126\n"
     ]
    }
   ],
   "source": [
    "\n",
    "\n",
    "# Crear el modelo de regresión lineal\n",
    "model = LinearRegression()\n",
    "\n",
    "# Realizar la validación cruzada\n",
    "scores = cross_val_score(model, X_features, y_train, cv=5, scoring='neg_mean_squared_error')\n",
    "\n",
    "# Convertir los errores negativos a positivos y calcular el promedio\n",
    "mse_scores = -scores\n",
    "mean_mse = mse_scores.mean()\n",
    "\n",
    "print(f\"MSE por pliegue: {mse_scores}\")\n",
    "print(f\"Promedio de MSE: {mean_mse}\")\n"
   ]
  },
  {
   "cell_type": "markdown",
   "metadata": {},
   "source": [
    "## Cálculo del R2 de la regresión lineal"
   ]
  },
  {
   "cell_type": "code",
   "execution_count": 33,
   "metadata": {},
   "outputs": [
    {
     "name": "stdout",
     "output_type": "stream",
     "text": [
      "Promedio de R²: 0.08802335724769346\n",
      "Promedio de RMSE: 75207.83909713145\n"
     ]
    }
   ],
   "source": [
    "model = LinearRegression()\n",
    "\n",
    "# Obtener los puntajes de R² en cada pliegue\n",
    "r2_scores = cross_val_score(model, X_features, y_train, cv=5, scoring='r2')\n",
    "mean_r2 = np.mean(r2_scores)\n",
    "\n",
    "# Obtener los puntajes de MSE en cada pliegue y luego calcular el RMSE\n",
    "mse_scores = cross_val_score(model, X_features, y_train, cv=5, scoring='neg_mean_squared_error')\n",
    "rmse_scores = np.sqrt(-mse_scores)\n",
    "mean_rmse = np.mean(rmse_scores)\n",
    "\n",
    "print(f\"Promedio de R²: {mean_r2}\")\n",
    "print(f\"Promedio de RMSE: {mean_rmse}\")\n"
   ]
  },
  {
   "cell_type": "markdown",
   "metadata": {},
   "source": [
    "## Entrenamiento del modelo linear regression"
   ]
  },
  {
   "cell_type": "code",
   "execution_count": 27,
   "metadata": {},
   "outputs": [
    {
     "name": "stdout",
     "output_type": "stream",
     "text": [
      "Predicciones del modelo: [[-13554.11155455]\n",
      " [ -1894.5171241 ]\n",
      " [  3408.11825188]\n",
      " [ 63125.51080353]\n",
      " [ 74138.32909415]]\n",
      "MSE en el conjunto de entrenamiento: 5669032030.9095955\n"
     ]
    }
   ],
   "source": [
    "# Crear el modelo de regresión lineal\n",
    "model = LinearRegression()\n",
    "\n",
    "# Entrenar el modelo con todo el conjunto de entrenamiento\n",
    "model.fit(X_features, y_train)\n",
    "\n",
    "# Evaluar el modelo en el conjunto de entrenamiento\n",
    "train_predictions = model.predict(X_features)\n",
    "\n",
    "# Mostrar algunas predicciones\n",
    "print(f\"Predicciones del modelo: {train_predictions[:5]}\")\n",
    "\n",
    "# Opcional: calcular el MSE en el conjunto de entrenamiento\n",
    "from sklearn.metrics import mean_squared_error\n",
    "train_mse = mean_squared_error(y_train, train_predictions)\n",
    "print(f\"MSE en el conjunto de entrenamiento: {train_mse}\")\n"
   ]
  },
  {
   "cell_type": "markdown",
   "metadata": {},
   "source": [
    "## Predecir y_test"
   ]
  },
  {
   "cell_type": "code",
   "execution_count": 28,
   "metadata": {},
   "outputs": [
    {
     "name": "stdout",
     "output_type": "stream",
     "text": [
      "Predicciones para X_test: [[28272.61661739]\n",
      " [67602.37715884]\n",
      " [64925.14428677]\n",
      " [47923.50129529]\n",
      " [46525.02978689]]\n"
     ]
    }
   ],
   "source": [
    "# Realizar las predicciones con el modelo entrenado\n",
    "y_test_predictions = model.predict(X_test)\n",
    "\n",
    "# Mostrar algunas de las predicciones\n",
    "print(f\"Predicciones para X_test: {y_test_predictions[:5]}\")\n",
    "\n",
    "# Si tienes y_test y deseas evaluar el rendimiento\n",
    "# from sklearn.metrics import mean_squared_error\n",
    "# test_mse = mean_squared_error(y_test, y_test_predictions)\n",
    "# print(f\"MSE en el conjunto de prueba: {test_mse}\")\n"
   ]
  },
  {
   "cell_type": "markdown",
   "metadata": {},
   "source": [
    "## Unir y_test con la columna \"id\""
   ]
  },
  {
   "cell_type": "code",
   "execution_count": 32,
   "metadata": {},
   "outputs": [
    {
     "name": "stdout",
     "output_type": "stream",
     "text": [
      "Archivo guardado exitosamente.\n"
     ]
    }
   ],
   "source": [
    "# Crear un DataFrame con la columna 'id' de X_test\n",
    "id_column = X_test[['id']].copy()\n",
    "\n",
    "# Eliminar la columna 'id' de X_test para quedarte solo con las características\n",
    "X_test_clean = X_test.drop(columns=['id'])\n",
    "\n",
    "# Convertir las predicciones de y_test_predictions en un DataFrame\n",
    "predictions_df = pd.DataFrame(y_test_predictions, columns=['predicted_price'])\n",
    "\n",
    "# Concatenar la columna 'id' con las predicciones\n",
    "output = pd.concat([id_column, predictions_df], axis=1)\n",
    "\n",
    "# Verificar que el número de filas es 125,690\n",
    "assert len(output) == 125690, f\"El número de filas es {len(output)}, pero debe ser 125690.\"\n",
    "\n",
    "# Guardar el archivo en formato CSV\n",
    "output.to_csv('submission_b.csv', index=False)\n",
    "\n",
    "\n",
    "print(\"Archivo guardado exitosamente.\")\n",
    "\n"
   ]
  }
 ],
 "metadata": {
  "kernelspec": {
   "display_name": "myenv",
   "language": "python",
   "name": "python3"
  },
  "language_info": {
   "codemirror_mode": {
    "name": "ipython",
    "version": 3
   },
   "file_extension": ".py",
   "mimetype": "text/x-python",
   "name": "python",
   "nbconvert_exporter": "python",
   "pygments_lexer": "ipython3",
   "version": "3.12.4"
  }
 },
 "nbformat": 4,
 "nbformat_minor": 2
}
