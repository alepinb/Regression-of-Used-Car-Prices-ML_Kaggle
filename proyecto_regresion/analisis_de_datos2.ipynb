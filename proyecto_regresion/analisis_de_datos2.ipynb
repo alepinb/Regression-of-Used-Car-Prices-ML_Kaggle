{
 "cells": [
  {
   "cell_type": "markdown",
   "metadata": {},
   "source": [
    "## Análisis de datos"
   ]
  },
  {
   "cell_type": "markdown",
   "metadata": {},
   "source": [
    "## Carga de librerías"
   ]
  },
  {
   "cell_type": "code",
   "execution_count": 1260,
   "metadata": {},
   "outputs": [],
   "source": [
    "import pandas as pd\n",
    "import os\n",
    "import matplotlib.pyplot as plt\n",
    "import seaborn as sns\n",
    "from sklearn.preprocessing import StandardScaler\n",
    "import pandas as pd\n",
    "from datetime import datetime\n",
    "import numpy as np"
   ]
  },
  {
   "cell_type": "markdown",
   "metadata": {},
   "source": [
    "## Carga de datos train.csv, mostrar primeras filas del dataset y el número de registros"
   ]
  },
  {
   "cell_type": "code",
   "execution_count": 1261,
   "metadata": {},
   "outputs": [
    {
     "name": "stdout",
     "output_type": "stream",
     "text": [
      "C:\\Users\\Administrator\\Documents\\Proyecto regresion precio coches\\proyecto_regresion\\data\\playground-series-s4e9\\train.csv\n",
      "   id          brand               model  model_year  milage      fuel_type  \\\n",
      "0   0           MINI       Cooper S Base        2007  213000       Gasoline   \n",
      "1   1        Lincoln               LS V8        2002  143250       Gasoline   \n",
      "2   2      Chevrolet   Silverado 2500 LT        2002  136731  E85 Flex Fuel   \n",
      "3   3        Genesis    G90 5.0 Ultimate        2017   19500       Gasoline   \n",
      "4   4  Mercedes-Benz         Metris Base        2021    7388       Gasoline   \n",
      "5   5           Audi       A6 2.0T Sport        2018   40950       Gasoline   \n",
      "6   6           Audi           A8 L 3.0T        2016   62200       Gasoline   \n",
      "7   7      Chevrolet  Silverado 1500 1LZ        2016  102604  E85 Flex Fuel   \n",
      "8   8           Ford           F-150 XLT        2020   38352       Gasoline   \n",
      "9   9            BMW             M4 Base        2015   74850       Gasoline   \n",
      "\n",
      "                                              engine  \\\n",
      "0       172.0HP 1.6L 4 Cylinder Engine Gasoline Fuel   \n",
      "1       252.0HP 3.9L 8 Cylinder Engine Gasoline Fuel   \n",
      "2  320.0HP 5.3L 8 Cylinder Engine Flex Fuel Capab...   \n",
      "3       420.0HP 5.0L 8 Cylinder Engine Gasoline Fuel   \n",
      "4       208.0HP 2.0L 4 Cylinder Engine Gasoline Fuel   \n",
      "5       252.0HP 2.0L 4 Cylinder Engine Gasoline Fuel   \n",
      "6      333.0HP 3.0L V6 Cylinder Engine Gasoline Fuel   \n",
      "7  355.0HP 5.3L 8 Cylinder Engine Flex Fuel Capab...   \n",
      "8                    2.7L V6 24V PDI DOHC Twin Turbo   \n",
      "9  425.0HP 3.0L Straight 6 Cylinder Engine Gasoli...   \n",
      "\n",
      "                     transmission                         ext_col int_col  \\\n",
      "0                             A/T                          Yellow    Gray   \n",
      "1                             A/T                          Silver   Beige   \n",
      "2                             A/T                            Blue    Gray   \n",
      "3  Transmission w/Dual Shift Mode                           Black   Black   \n",
      "4                     7-Speed A/T                           Black   Beige   \n",
      "5                             A/T                           White       –   \n",
      "6                     8-Speed A/T                           Black   Black   \n",
      "7                             A/T                           White    Gray   \n",
      "8              10-Speed Automatic  Snowflake White Pearl Metallic   Black   \n",
      "9  Transmission w/Dual Shift Mode                           Black    Blue   \n",
      "\n",
      "                                 accident clean_title  price  \n",
      "0                           None reported         Yes   4200  \n",
      "1  At least 1 accident or damage reported         Yes   4999  \n",
      "2                           None reported         Yes  13900  \n",
      "3                           None reported         Yes  45000  \n",
      "4                           None reported         Yes  97500  \n",
      "5                           None reported         Yes  29950  \n",
      "6                           None reported         Yes  28500  \n",
      "7                           None reported         Yes  12500  \n",
      "8                           None reported         Yes  62890  \n",
      "9                           None reported         Yes   4000  \n",
      "El número de registros es: 188533\n"
     ]
    }
   ],
   "source": [
    "ruta_absoluta = os.path.abspath(r'C:\\Users\\Administrator\\Documents\\Proyecto regresion precio coches\\proyecto_regresion\\data\\playground-series-s4e9\\train.csv')\n",
    "print(ruta_absoluta)\n",
    "\n",
    "X_train = pd.read_csv(ruta_absoluta)\n",
    "\n",
    "\n",
    "# Mostrar las primeras filas del DataFrame\n",
    "print(X_train.head(10))\n",
    "\n",
    "# Mostrar el número de registros (filas) en el DataFrame X_train\n",
    "num_registros = X_train.shape[0]\n",
    "print(f\"El número de registros es: {num_registros}\")\n"
   ]
  },
  {
   "cell_type": "markdown",
   "metadata": {},
   "source": [
    "## Carga de datos de test.csv, mostrar sus primeras líneas y el número de registros\n"
   ]
  },
  {
   "cell_type": "code",
   "execution_count": 1262,
   "metadata": {},
   "outputs": [
    {
     "name": "stdout",
     "output_type": "stream",
     "text": [
      "C:\\Users\\Administrator\\Documents\\Proyecto regresion precio coches\\proyecto_regresion\\data\\playground-series-s4e9\\test.csv\n",
      "       id brand                 model  model_year  milage fuel_type  \\\n",
      "0  188533  Land        Rover LR2 Base        2015   98000  Gasoline   \n",
      "1  188534  Land     Rover Defender SE        2020    9142    Hybrid   \n",
      "2  188535  Ford    Expedition Limited        2022   28121  Gasoline   \n",
      "3  188536  Audi         A6 2.0T Sport        2016   61258  Gasoline   \n",
      "4  188537  Audi  A6 2.0T Premium Plus        2018   59000  Gasoline   \n",
      "\n",
      "                                              engine        transmission  \\\n",
      "0       240.0HP 2.0L 4 Cylinder Engine Gasoline Fuel         6-Speed A/T   \n",
      "1  395.0HP 3.0L Straight 6 Cylinder Engine Gasoli...         8-Speed A/T   \n",
      "2                    3.5L V6 24V PDI DOHC Twin Turbo  10-Speed Automatic   \n",
      "3                                     2.0 Liter TFSI           Automatic   \n",
      "4       252.0HP 2.0L 4 Cylinder Engine Gasoline Fuel                 A/T   \n",
      "\n",
      "           ext_col int_col       accident clean_title  \n",
      "0            White   Beige  None reported         Yes  \n",
      "1           Silver   Black  None reported         Yes  \n",
      "2            White   Ebony  None reported         NaN  \n",
      "3  Silician Yellow   Black  None reported         NaN  \n",
      "4             Gray   Black  None reported         Yes  \n",
      "El número de registros es: 125690\n"
     ]
    }
   ],
   "source": [
    "ruta_absoluta = os.path.abspath(r'C:\\Users\\Administrator\\Documents\\Proyecto regresion precio coches\\proyecto_regresion\\data\\playground-series-s4e9\\test.csv')\n",
    "print(ruta_absoluta)\n",
    "\n",
    "X_test = pd.read_csv(ruta_absoluta)\n",
    "\n",
    "\n",
    "# Mostrar las primeras filas del DataFrame\n",
    "print(X_test.head())\n",
    "\n",
    "# Mostrar el número de registros (filas) en el DataFrame X_train\n",
    "num_registros = X_test.shape[0]\n",
    "print(f\"El número de registros es: {num_registros}\")"
   ]
  },
  {
   "cell_type": "markdown",
   "metadata": {},
   "source": [
    "## Revisar el número de columnas en ambos datasets"
   ]
  },
  {
   "cell_type": "code",
   "execution_count": 1263,
   "metadata": {},
   "outputs": [
    {
     "name": "stdout",
     "output_type": "stream",
     "text": [
      "Train tiene 13 columnas.\n",
      "Test tiene 12 columnas.\n"
     ]
    }
   ],
   "source": [
    "# Verificar el número de columnas en ambos datasets\n",
    "print(f\"Train tiene {X_train.shape[1]} columnas.\")\n",
    "print(f\"Test tiene {X_test.shape[1]} columnas.\")\n"
   ]
  },
  {
   "cell_type": "markdown",
   "metadata": {},
   "source": [
    "## Nos aseguramos de que los nombres de las columnas coincidan en ambos datasets y de que haya la misma cantidad de columnas"
   ]
  },
  {
   "cell_type": "code",
   "execution_count": 1264,
   "metadata": {},
   "outputs": [
    {
     "name": "stdout",
     "output_type": "stream",
     "text": [
      "Las columnas coinciden.\n"
     ]
    }
   ],
   "source": [
    "# Verificar que los nombres de las columnas (features) sean los mismos\n",
    "train_columns = X_train.columns\n",
    "test_columns = X_test.columns\n",
    "\n",
    "# Excluyendo la columna objetivo de train, si existe\n",
    "train_columns = train_columns.drop('price', errors='ignore')\n",
    "\n",
    "if all(train_columns == test_columns):\n",
    "    print(\"Las columnas coinciden.\")\n",
    "else:\n",
    "    print(\"Las columnas NO coinciden.\")"
   ]
  },
  {
   "cell_type": "markdown",
   "metadata": {},
   "source": [
    "## Verificar el tipo de datos en cada columna en ambos datasets"
   ]
  },
  {
   "cell_type": "code",
   "execution_count": 1265,
   "metadata": {},
   "outputs": [
    {
     "name": "stdout",
     "output_type": "stream",
     "text": [
      "id               int64\n",
      "brand           object\n",
      "model           object\n",
      "model_year       int64\n",
      "milage           int64\n",
      "fuel_type       object\n",
      "engine          object\n",
      "transmission    object\n",
      "ext_col         object\n",
      "int_col         object\n",
      "accident        object\n",
      "clean_title     object\n",
      "price            int64\n",
      "dtype: object\n",
      "id               int64\n",
      "brand           object\n",
      "model           object\n",
      "model_year       int64\n",
      "milage           int64\n",
      "fuel_type       object\n",
      "engine          object\n",
      "transmission    object\n",
      "ext_col         object\n",
      "int_col         object\n",
      "accident        object\n",
      "clean_title     object\n",
      "dtype: object\n"
     ]
    }
   ],
   "source": [
    "# Verificar los tipos de datos de cada columna en X_train\n",
    "print(X_train.dtypes)\n",
    "\n",
    "print(X_test.dtypes)\n"
   ]
  },
  {
   "cell_type": "markdown",
   "metadata": {},
   "source": [
    "## Ver nulos en X_train y en X_test"
   ]
  },
  {
   "cell_type": "code",
   "execution_count": 1266,
   "metadata": {},
   "outputs": [
    {
     "name": "stdout",
     "output_type": "stream",
     "text": [
      "id                  0\n",
      "brand               0\n",
      "model               0\n",
      "model_year          0\n",
      "milage              0\n",
      "fuel_type        5083\n",
      "engine              0\n",
      "transmission        0\n",
      "ext_col             0\n",
      "int_col             0\n",
      "accident         2452\n",
      "clean_title     21419\n",
      "price               0\n",
      "dtype: int64\n",
      "id                  0\n",
      "brand               0\n",
      "model               0\n",
      "model_year          0\n",
      "milage              0\n",
      "fuel_type        3383\n",
      "engine              0\n",
      "transmission        0\n",
      "ext_col             0\n",
      "int_col             0\n",
      "accident         1632\n",
      "clean_title     14239\n",
      "dtype: int64\n"
     ]
    }
   ],
   "source": [
    "print(X_train.isnull().sum())\n",
    "\n",
    "print(X_test.isnull().sum())"
   ]
  },
  {
   "cell_type": "markdown",
   "metadata": {},
   "source": [
    "## Cálculo de edad de los coches (añadir una columna llamada \"age\") a X_train"
   ]
  },
  {
   "cell_type": "code",
   "execution_count": 1267,
   "metadata": {},
   "outputs": [
    {
     "name": "stdout",
     "output_type": "stream",
     "text": [
      "   id          brand              model  milage      fuel_type  \\\n",
      "0   0           MINI      Cooper S Base  213000       Gasoline   \n",
      "1   1        Lincoln              LS V8  143250       Gasoline   \n",
      "2   2      Chevrolet  Silverado 2500 LT  136731  E85 Flex Fuel   \n",
      "3   3        Genesis   G90 5.0 Ultimate   19500       Gasoline   \n",
      "4   4  Mercedes-Benz        Metris Base    7388       Gasoline   \n",
      "\n",
      "                                              engine  \\\n",
      "0       172.0HP 1.6L 4 Cylinder Engine Gasoline Fuel   \n",
      "1       252.0HP 3.9L 8 Cylinder Engine Gasoline Fuel   \n",
      "2  320.0HP 5.3L 8 Cylinder Engine Flex Fuel Capab...   \n",
      "3       420.0HP 5.0L 8 Cylinder Engine Gasoline Fuel   \n",
      "4       208.0HP 2.0L 4 Cylinder Engine Gasoline Fuel   \n",
      "\n",
      "                     transmission ext_col int_col  \\\n",
      "0                             A/T  Yellow    Gray   \n",
      "1                             A/T  Silver   Beige   \n",
      "2                             A/T    Blue    Gray   \n",
      "3  Transmission w/Dual Shift Mode   Black   Black   \n",
      "4                     7-Speed A/T   Black   Beige   \n",
      "\n",
      "                                 accident clean_title  price  age  \n",
      "0                           None reported         Yes   4200   17  \n",
      "1  At least 1 accident or damage reported         Yes   4999   22  \n",
      "2                           None reported         Yes  13900   22  \n",
      "3                           None reported         Yes  45000    7  \n",
      "4                           None reported         Yes  97500    3  \n"
     ]
    }
   ],
   "source": [
    "# 1. Obtener el año actual\n",
    "current_year = datetime.now().year\n",
    "\n",
    "# 2. Calcular la edad del coche\n",
    "X_train['age'] = current_year - X_train['model_year']\n",
    "\n",
    "# 3. Opcional: Eliminar la columna original 'model_year' si ya no la necesitas\n",
    "X_train = X_train.drop(columns=['model_year'])\n",
    "\n",
    "# Mostrar las primeras filas del DataFrame con la nueva columna 'age'\n",
    "print(X_train.head())"
   ]
  },
  {
   "cell_type": "markdown",
   "metadata": {},
   "source": [
    "## Cálculo de edad de los coches (añadir una columna llamada \"age\") a X_test"
   ]
  },
  {
   "cell_type": "code",
   "execution_count": 1268,
   "metadata": {},
   "outputs": [
    {
     "name": "stdout",
     "output_type": "stream",
     "text": [
      "       id brand                 model  milage fuel_type  \\\n",
      "0  188533  Land        Rover LR2 Base   98000  Gasoline   \n",
      "1  188534  Land     Rover Defender SE    9142    Hybrid   \n",
      "2  188535  Ford    Expedition Limited   28121  Gasoline   \n",
      "3  188536  Audi         A6 2.0T Sport   61258  Gasoline   \n",
      "4  188537  Audi  A6 2.0T Premium Plus   59000  Gasoline   \n",
      "\n",
      "                                              engine        transmission  \\\n",
      "0       240.0HP 2.0L 4 Cylinder Engine Gasoline Fuel         6-Speed A/T   \n",
      "1  395.0HP 3.0L Straight 6 Cylinder Engine Gasoli...         8-Speed A/T   \n",
      "2                    3.5L V6 24V PDI DOHC Twin Turbo  10-Speed Automatic   \n",
      "3                                     2.0 Liter TFSI           Automatic   \n",
      "4       252.0HP 2.0L 4 Cylinder Engine Gasoline Fuel                 A/T   \n",
      "\n",
      "           ext_col int_col       accident clean_title  age  \n",
      "0            White   Beige  None reported         Yes    9  \n",
      "1           Silver   Black  None reported         Yes    4  \n",
      "2            White   Ebony  None reported         NaN    2  \n",
      "3  Silician Yellow   Black  None reported         NaN    8  \n",
      "4             Gray   Black  None reported         Yes    6  \n"
     ]
    }
   ],
   "source": [
    "# 1. Obtener el año actual\n",
    "current_year = datetime.now().year\n",
    "\n",
    "# 2. Calcular la edad del coche\n",
    "X_test['age'] = current_year - X_test['model_year']\n",
    "\n",
    "# 3. Opcional: Eliminar la columna original 'model_year' si ya no la necesitas\n",
    "X_test = X_test.drop(columns=['model_year'])\n",
    "\n",
    "# Mostrar las primeras filas del DataFrame con la nueva columna 'age'\n",
    "print(X_test.head())"
   ]
  },
  {
   "cell_type": "markdown",
   "metadata": {},
   "source": [
    "## Eliminar columna ID de X_train y X_test"
   ]
  },
  {
   "cell_type": "code",
   "execution_count": 1269,
   "metadata": {},
   "outputs": [],
   "source": [
    "X_train = X_train.drop(columns=['id'], errors='ignore')  # 'errors=\"ignore\"' evita errores si 'id' no existe\n",
    "\n",
    "\n",
    "X_test = X_test.drop(columns=['id'], errors='ignore')  # 'errors=\"ignore\"' evita errores si 'id' no existe\n",
    "\n"
   ]
  },
  {
   "cell_type": "markdown",
   "metadata": {},
   "source": [
    "## Estadísticas de X_train"
   ]
  },
  {
   "cell_type": "code",
   "execution_count": 1270,
   "metadata": {},
   "outputs": [
    {
     "name": "stdout",
     "output_type": "stream",
     "text": [
      "              milage         price            age\n",
      "count  188533.000000  1.885330e+05  188533.000000\n",
      "mean    65705.295174  4.387802e+04       8.170002\n",
      "std     49798.158076  7.881952e+04       5.660967\n",
      "min       100.000000  2.000000e+03       0.000000\n",
      "25%     24115.000000  1.700000e+04       4.000000\n",
      "50%     57785.000000  3.082500e+04       7.000000\n",
      "75%     95400.000000  4.990000e+04      11.000000\n",
      "max    405000.000000  2.954083e+06      50.000000\n"
     ]
    }
   ],
   "source": [
    "# Ver las estadísticas descriptivas de X_train\n",
    "X_train_stats = X_train.drop(columns=['id'], errors='ignore')  \n",
    "print(X_train_stats.describe())\n"
   ]
  },
  {
   "cell_type": "markdown",
   "metadata": {},
   "source": [
    "## Dividir la columna \"engine\" en X_train"
   ]
  },
  {
   "cell_type": "code",
   "execution_count": 1271,
   "metadata": {},
   "outputs": [
    {
     "name": "stdout",
     "output_type": "stream",
     "text": [
      "                                               engine  extracted_horsepower  \\\n",
      "0        172.0HP 1.6L 4 Cylinder Engine Gasoline Fuel                 172.0   \n",
      "1        252.0HP 3.9L 8 Cylinder Engine Gasoline Fuel                 252.0   \n",
      "2   320.0HP 5.3L 8 Cylinder Engine Flex Fuel Capab...                 320.0   \n",
      "3        420.0HP 5.0L 8 Cylinder Engine Gasoline Fuel                 420.0   \n",
      "4        208.0HP 2.0L 4 Cylinder Engine Gasoline Fuel                 208.0   \n",
      "5        252.0HP 2.0L 4 Cylinder Engine Gasoline Fuel                 252.0   \n",
      "6       333.0HP 3.0L V6 Cylinder Engine Gasoline Fuel                 333.0   \n",
      "7   355.0HP 5.3L 8 Cylinder Engine Flex Fuel Capab...                 355.0   \n",
      "8                     2.7L V6 24V PDI DOHC Twin Turbo                   NaN   \n",
      "9   425.0HP 3.0L Straight 6 Cylinder Engine Gasoli...                 425.0   \n",
      "10      312.0HP 3.6L V6 Cylinder Engine Gasoline Fuel                 312.0   \n",
      "11                Electric Motor Electric Fuel System                   NaN   \n",
      "12       420.0HP 6.2L 8 Cylinder Engine Gasoline Fuel                 420.0   \n",
      "13      333.0HP 3.0L V6 Cylinder Engine Gasoline Fuel                 333.0   \n",
      "14       523.0HP 4.4L 8 Cylinder Engine Gasoline Fuel                 523.0   \n",
      "15       503.0HP 4.0L 8 Cylinder Engine Gasoline Fuel                 503.0   \n",
      "16       420.0HP 6.2L 8 Cylinder Engine Gasoline Fuel                 420.0   \n",
      "17  395.0HP 3.0L Straight 6 Cylinder Engine Gasoli...                 395.0   \n",
      "18       310.0HP 4.6L 8 Cylinder Engine Gasoline Fuel                 310.0   \n",
      "19       469.0HP 4.0L 8 Cylinder Engine Gasoline Fuel                 469.0   \n",
      "\n",
      "    extracted_engine_size  extracted_cylinders extracted_fuel_type  \\\n",
      "0                     1.6                  4.0            gasoline   \n",
      "1                     3.9                  8.0            gasoline   \n",
      "2                     5.3                  8.0                None   \n",
      "3                     5.0                  8.0            gasoline   \n",
      "4                     2.0                  4.0            gasoline   \n",
      "5                     2.0                  4.0            gasoline   \n",
      "6                     3.0                  6.0            gasoline   \n",
      "7                     5.3                  8.0                None   \n",
      "8                     2.7                  NaN                None   \n",
      "9                     3.0                  6.0            gasoline   \n",
      "10                    3.6                  6.0            gasoline   \n",
      "11                    NaN                  NaN            electric   \n",
      "12                    6.2                  8.0            gasoline   \n",
      "13                    3.0                  6.0            gasoline   \n",
      "14                    4.4                  8.0            gasoline   \n",
      "15                    4.0                  8.0            gasoline   \n",
      "16                    6.2                  8.0            gasoline   \n",
      "17                    3.0                  6.0            gasoline   \n",
      "18                    4.6                  8.0            gasoline   \n",
      "19                    4.0                  8.0            gasoline   \n",
      "\n",
      "        fuel_type  \n",
      "0        Gasoline  \n",
      "1        Gasoline  \n",
      "2   E85 Flex Fuel  \n",
      "3        Gasoline  \n",
      "4        Gasoline  \n",
      "5        Gasoline  \n",
      "6        Gasoline  \n",
      "7   E85 Flex Fuel  \n",
      "8        Gasoline  \n",
      "9        Gasoline  \n",
      "10       Gasoline  \n",
      "11            NaN  \n",
      "12       Gasoline  \n",
      "13       Gasoline  \n",
      "14       Gasoline  \n",
      "15       Gasoline  \n",
      "16       Gasoline  \n",
      "17         Hybrid  \n",
      "18       Gasoline  \n",
      "19       Gasoline  \n",
      "extracted_horsepower     33259\n",
      "extracted_engine_size     6698\n",
      "extracted_cylinders      37855\n",
      "extracted_fuel_type      36714\n",
      "dtype: int64\n",
      "extracted_horsepower     17.640943\n",
      "extracted_engine_size     3.552694\n",
      "extracted_cylinders      20.078713\n",
      "extracted_fuel_type      19.473514\n",
      "dtype: float64\n"
     ]
    }
   ],
   "source": [
    "import pandas as pd\n",
    "import re\n",
    "\n",
    "def extract_engine_info(engine_str):\n",
    "    hp = re.search(r'(\\d+(?:\\.\\d+)?)\\s*HP', engine_str)\n",
    "    size = re.search(r'(\\d+(?:\\.\\d+)?)\\s*L', engine_str)\n",
    "    cylinders = re.search(r'(\\d+)\\s*Cylinder', engine_str)\n",
    "    fuel = re.search(r'(Gasoline|Diesel|Electric|Hybrid)', engine_str, re.IGNORECASE)\n",
    "    \n",
    "    return {\n",
    "        'extracted_horsepower': float(hp.group(1)) if hp else None,\n",
    "        'extracted_engine_size': float(size.group(1)) if size else None,\n",
    "        'extracted_cylinders': int(cylinders.group(1)) if cylinders else None,\n",
    "        'extracted_fuel_type': fuel.group(1).lower() if fuel else None\n",
    "    }\n",
    "\n",
    "# Aplicar la función a la columna 'engine'\n",
    "engine_info = X_train['engine'].apply(extract_engine_info)\n",
    "\n",
    "# Convertir el resultado en nuevas columnas\n",
    "new_columns = pd.DataFrame(engine_info.tolist())\n",
    "\n",
    "# Unir las nuevas columnas al DataFrame original\n",
    "X_train = pd.concat([X_train, new_columns], axis=1)\n",
    "\n",
    "# Mostrar las primeras filas del DataFrame resultante\n",
    "print(X_train[['engine', 'extracted_horsepower', 'extracted_engine_size', 'extracted_cylinders', 'extracted_fuel_type', 'fuel_type']].head(20))\n",
    "\n",
    "# Verificar cuántos valores nulos tenemos en cada nueva columna\n",
    "print(X_train[['extracted_horsepower', 'extracted_engine_size', 'extracted_cylinders', 'extracted_fuel_type']].isnull().sum())\n",
    "\n",
    "# Verificar el porcentaje de valores nulos en cada nueva columna\n",
    "null_percentage = X_train[['extracted_horsepower', 'extracted_engine_size', 'extracted_cylinders', 'extracted_fuel_type']].isnull().mean() * 100\n",
    "print(null_percentage)\n"
   ]
  },
  {
   "cell_type": "markdown",
   "metadata": {},
   "source": [
    "## Dividir columna \"engine\" en X_test"
   ]
  },
  {
   "cell_type": "code",
   "execution_count": 1272,
   "metadata": {},
   "outputs": [
    {
     "name": "stdout",
     "output_type": "stream",
     "text": [
      "                                               engine  extracted_horsepower  \\\n",
      "0        240.0HP 2.0L 4 Cylinder Engine Gasoline Fuel                 240.0   \n",
      "1   395.0HP 3.0L Straight 6 Cylinder Engine Gasoli...                 395.0   \n",
      "2                     3.5L V6 24V PDI DOHC Twin Turbo                   NaN   \n",
      "3                                      2.0 Liter TFSI                   NaN   \n",
      "4        252.0HP 2.0L 4 Cylinder Engine Gasoline Fuel                 252.0   \n",
      "5        285.0HP 4.8L 8 Cylinder Engine Gasoline Fuel                 285.0   \n",
      "6       270.0HP 3.5L V6 Cylinder Engine Gasoline Fuel                 270.0   \n",
      "7                                3.8L V6 24V GDI DOHC                   NaN   \n",
      "8        536.0HP 5.5L 8 Cylinder Engine Gasoline Fuel                 536.0   \n",
      "9       365.0HP 3.3L V6 Cylinder Engine Gasoline Fuel                 365.0   \n",
      "10      303.0HP 3.7L V6 Cylinder Engine Gasoline Fuel                 303.0   \n",
      "11       300.0HP 4.6L 8 Cylinder Engine Gasoline Fuel                 300.0   \n",
      "12                    3.5L V6 24V PDI DOHC Twin Turbo                   NaN   \n",
      "13  379.0HP 3.0L Flat 6 Cylinder Engine Gasoline Fuel                 379.0   \n",
      "14      365.0HP 3.5L V6 Cylinder Engine Gasoline Fuel                 365.0   \n",
      "15                    4.0L V8 32V GDI DOHC Twin Turbo                   NaN   \n",
      "16       292.0HP 2.0L 4 Cylinder Engine Gasoline Fuel                 292.0   \n",
      "17      248.0HP 3.5L V6 Cylinder Engine Gasoline Fuel                 248.0   \n",
      "18       471.0HP 5.0L 8 Cylinder Engine Gasoline Fuel                 471.0   \n",
      "19      362.0HP 3.0L V6 Cylinder Engine Gasoline Fuel                 362.0   \n",
      "\n",
      "    extracted_engine_size  extracted_cylinders extracted_fuel_type fuel_type  \n",
      "0                     2.0                  4.0            gasoline  Gasoline  \n",
      "1                     3.0                  6.0            gasoline    Hybrid  \n",
      "2                     3.5                  NaN                None  Gasoline  \n",
      "3                     2.0                  NaN                None  Gasoline  \n",
      "4                     2.0                  4.0            gasoline  Gasoline  \n",
      "5                     4.8                  8.0            gasoline  Gasoline  \n",
      "6                     3.5                  6.0            gasoline  Gasoline  \n",
      "7                     3.8                  NaN                None  Gasoline  \n",
      "8                     5.5                  8.0            gasoline  Gasoline  \n",
      "9                     3.3                  6.0            gasoline  Gasoline  \n",
      "10                    3.7                  6.0            gasoline  Gasoline  \n",
      "11                    4.6                  8.0            gasoline  Gasoline  \n",
      "12                    3.5                  NaN                None  Gasoline  \n",
      "13                    3.0                  6.0            gasoline  Gasoline  \n",
      "14                    3.5                  6.0            gasoline  Gasoline  \n",
      "15                    4.0                  NaN                None  Gasoline  \n",
      "16                    2.0                  4.0            gasoline  Gasoline  \n",
      "17                    3.5                  6.0            gasoline  Gasoline  \n",
      "18                    5.0                  8.0            gasoline  Gasoline  \n",
      "19                    3.0                  6.0            gasoline  Gasoline  \n",
      "extracted_horsepower     22181\n",
      "extracted_engine_size     4380\n",
      "extracted_cylinders      25150\n",
      "extracted_fuel_type      24398\n",
      "dtype: int64\n",
      "extracted_horsepower     17.647386\n",
      "extracted_engine_size     3.484764\n",
      "extracted_cylinders      20.009547\n",
      "extracted_fuel_type      19.411250\n",
      "dtype: float64\n"
     ]
    }
   ],
   "source": [
    "import pandas as pd\n",
    "import re\n",
    "\n",
    "def extract_engine_info(engine_str):\n",
    "    hp = re.search(r'(\\d+(?:\\.\\d+)?)\\s*HP', engine_str)\n",
    "    size = re.search(r'(\\d+(?:\\.\\d+)?)\\s*L', engine_str)\n",
    "    cylinders = re.search(r'(\\d+)\\s*Cylinder', engine_str)\n",
    "    fuel = re.search(r'(Gasoline|Diesel|Electric|Hybrid)', engine_str, re.IGNORECASE)\n",
    "    \n",
    "    return {\n",
    "        'extracted_horsepower': float(hp.group(1)) if hp else None,\n",
    "        'extracted_engine_size': float(size.group(1)) if size else None,\n",
    "        'extracted_cylinders': int(cylinders.group(1)) if cylinders else None,\n",
    "        'extracted_fuel_type': fuel.group(1).lower() if fuel else None\n",
    "    }\n",
    "\n",
    "# Aplicar la función a la columna 'engine'\n",
    "engine_info = X_test['engine'].apply(extract_engine_info)\n",
    "\n",
    "# Convertir el resultado en nuevas columnas\n",
    "new_columns = pd.DataFrame(engine_info.tolist())\n",
    "\n",
    "# Unir las nuevas columnas al DataFrame original\n",
    "X_test = pd.concat([X_test, new_columns], axis=1)\n",
    "\n",
    "# Mostrar las primeras filas del DataFrame resultante\n",
    "print(X_test[['engine', 'extracted_horsepower', 'extracted_engine_size', 'extracted_cylinders', 'extracted_fuel_type', 'fuel_type']].head(20))\n",
    "\n",
    "# Verificar cuántos valores nulos tenemos en cada nueva columna\n",
    "print(X_test[['extracted_horsepower', 'extracted_engine_size', 'extracted_cylinders', 'extracted_fuel_type']].isnull().sum())\n",
    "\n",
    "# Verificar el porcentaje de valores nulos en cada nueva columna\n",
    "null_percentage = X_test[['extracted_horsepower', 'extracted_engine_size', 'extracted_cylinders', 'extracted_fuel_type']].isnull().mean() * 100\n",
    "print(null_percentage)\n"
   ]
  },
  {
   "cell_type": "markdown",
   "metadata": {},
   "source": [
    "## EL símbolo \"-\" será rellenado con NaN"
   ]
  },
  {
   "cell_type": "code",
   "execution_count": 1273,
   "metadata": {},
   "outputs": [],
   "source": [
    "X_train.replace('–', np.nan, inplace=True)\n",
    "\n",
    "X_test.replace('–', np.nan, inplace=True)"
   ]
  },
  {
   "cell_type": "markdown",
   "metadata": {},
   "source": [
    "## Valores nulos en fuel_type serán rellenados con los valores correspondientes de extracted_fuel_type en X_train"
   ]
  },
  {
   "cell_type": "code",
   "execution_count": 1274,
   "metadata": {},
   "outputs": [
    {
     "name": "stdout",
     "output_type": "stream",
     "text": [
      "       fuel_type extracted_fuel_type\n",
      "0       Gasoline            gasoline\n",
      "1       Gasoline            gasoline\n",
      "2  E85 Flex Fuel                None\n",
      "3       Gasoline            gasoline\n",
      "4       Gasoline            gasoline\n",
      "brand                        0\n",
      "model                        0\n",
      "milage                       0\n",
      "fuel_type                  952\n",
      "engine                     925\n",
      "transmission                87\n",
      "ext_col                    366\n",
      "int_col                   4527\n",
      "accident                  2452\n",
      "clean_title              21419\n",
      "price                        0\n",
      "age                          0\n",
      "extracted_horsepower     33259\n",
      "extracted_engine_size     6698\n",
      "extracted_cylinders      37855\n",
      "extracted_fuel_type      36714\n",
      "dtype: int64\n",
      "brand                     0.000000\n",
      "model                     0.000000\n",
      "milage                    0.000000\n",
      "fuel_type                 0.504951\n",
      "engine                    0.490630\n",
      "transmission              0.046146\n",
      "ext_col                   0.194130\n",
      "int_col                   2.401171\n",
      "accident                  1.300568\n",
      "clean_title              11.360876\n",
      "price                     0.000000\n",
      "age                       0.000000\n",
      "extracted_horsepower     17.640943\n",
      "extracted_engine_size     3.552694\n",
      "extracted_cylinders      20.078713\n",
      "extracted_fuel_type      19.473514\n",
      "dtype: float64\n"
     ]
    }
   ],
   "source": [
    "# Rellenar los valores faltantes en 'fuel_type' con los valores de 'extracted_fuel_type'\n",
    "X_train['fuel_type'] = X_train['fuel_type'].fillna(X_train['extracted_fuel_type'])\n",
    "\n",
    "# Verificar si los valores faltantes fueron rellenados\n",
    "print(X_train[['fuel_type', 'extracted_fuel_type']].head())\n",
    "\n",
    "# Mostrar la cantidad de valores nulos por columna\n",
    "print(X_train.isnull().sum())\n",
    "\n",
    "# Opcional: Mostrar el porcentaje de valores nulos por columna\n",
    "null_percentage = X_train.isnull().mean() * 100\n",
    "print(null_percentage)\n",
    "\n"
   ]
  },
  {
   "cell_type": "markdown",
   "metadata": {},
   "source": [
    "## Valores nulos en fuel_type serán rellenados con los valores correspondientes de extracted_fuel_type en X_test"
   ]
  },
  {
   "cell_type": "code",
   "execution_count": 1275,
   "metadata": {},
   "outputs": [
    {
     "name": "stdout",
     "output_type": "stream",
     "text": [
      "  fuel_type extracted_fuel_type\n",
      "0  Gasoline            gasoline\n",
      "1    Hybrid            gasoline\n",
      "2  Gasoline                None\n",
      "3  Gasoline                None\n",
      "4  Gasoline            gasoline\n",
      "brand                        0\n",
      "model                        0\n",
      "milage                       0\n",
      "fuel_type                  637\n",
      "engine                     617\n",
      "transmission                40\n",
      "ext_col                    223\n",
      "int_col                   2953\n",
      "accident                  1632\n",
      "clean_title              14239\n",
      "age                          0\n",
      "extracted_horsepower     22181\n",
      "extracted_engine_size     4380\n",
      "extracted_cylinders      25150\n",
      "extracted_fuel_type      24398\n",
      "dtype: int64\n",
      "brand                     0.000000\n",
      "model                     0.000000\n",
      "milage                    0.000000\n",
      "fuel_type                 0.506802\n",
      "engine                    0.490890\n",
      "transmission              0.031824\n",
      "ext_col                   0.177421\n",
      "int_col                   2.349431\n",
      "accident                  1.298433\n",
      "clean_title              11.328666\n",
      "age                       0.000000\n",
      "extracted_horsepower     17.647386\n",
      "extracted_engine_size     3.484764\n",
      "extracted_cylinders      20.009547\n",
      "extracted_fuel_type      19.411250\n",
      "dtype: float64\n"
     ]
    }
   ],
   "source": [
    "# Rellenar los valores faltantes en 'fuel_type' con los valores de 'extracted_fuel_type'\n",
    "X_test['fuel_type'] = X_test['fuel_type'].fillna(X_test['extracted_fuel_type'])\n",
    "\n",
    "# Verificar si los valores faltantes fueron rellenados\n",
    "print(X_test[['fuel_type', 'extracted_fuel_type']].head())\n",
    "\n",
    "# Mostrar la cantidad de valores nulos por columna\n",
    "print(X_test.isnull().sum())\n",
    "\n",
    "# Opcional: Mostrar el porcentaje de valores nulos por columna\n",
    "null_percentage = X_test.isnull().mean() * 100\n",
    "print(null_percentage)\n"
   ]
  },
  {
   "cell_type": "markdown",
   "metadata": {},
   "source": [
    "## Verificar el número de nulos presentes en el dataset X_train y en X_test"
   ]
  },
  {
   "cell_type": "code",
   "execution_count": 1276,
   "metadata": {},
   "outputs": [
    {
     "name": "stdout",
     "output_type": "stream",
     "text": [
      "brand                        0\n",
      "model                        0\n",
      "milage                       0\n",
      "fuel_type                  952\n",
      "engine                     925\n",
      "transmission                87\n",
      "ext_col                    366\n",
      "int_col                   4527\n",
      "accident                  2452\n",
      "clean_title              21419\n",
      "price                        0\n",
      "age                          0\n",
      "extracted_horsepower     33259\n",
      "extracted_engine_size     6698\n",
      "extracted_cylinders      37855\n",
      "extracted_fuel_type      36714\n",
      "dtype: int64\n",
      "brand                        0\n",
      "model                        0\n",
      "milage                       0\n",
      "fuel_type                  637\n",
      "engine                     617\n",
      "transmission                40\n",
      "ext_col                    223\n",
      "int_col                   2953\n",
      "accident                  1632\n",
      "clean_title              14239\n",
      "age                          0\n",
      "extracted_horsepower     22181\n",
      "extracted_engine_size     4380\n",
      "extracted_cylinders      25150\n",
      "extracted_fuel_type      24398\n",
      "dtype: int64\n"
     ]
    }
   ],
   "source": [
    "# Verificar el número de valores nulos en cada columna\n",
    "print(X_train.isnull().sum())\n",
    "\n",
    "print(X_test.isnull().sum())\n"
   ]
  },
  {
   "cell_type": "markdown",
   "metadata": {},
   "source": [
    "## Transformar el simbolo \"-\" a NaN"
   ]
  },
  {
   "cell_type": "code",
   "execution_count": 1277,
   "metadata": {},
   "outputs": [],
   "source": [
    "#X_train.replace('–', np.nan, inplace=True)\n",
    "\n",
    "#X_test.replace('–', np.nan, inplace=True)"
   ]
  },
  {
   "cell_type": "markdown",
   "metadata": {},
   "source": [
    "## Verificar valores nulos"
   ]
  },
  {
   "cell_type": "code",
   "execution_count": 1278,
   "metadata": {},
   "outputs": [
    {
     "name": "stdout",
     "output_type": "stream",
     "text": [
      "brand                        0\n",
      "model                        0\n",
      "milage                       0\n",
      "fuel_type                  952\n",
      "engine                     925\n",
      "transmission                87\n",
      "ext_col                    366\n",
      "int_col                   4527\n",
      "accident                  2452\n",
      "clean_title              21419\n",
      "price                        0\n",
      "age                          0\n",
      "extracted_horsepower     33259\n",
      "extracted_engine_size     6698\n",
      "extracted_cylinders      37855\n",
      "extracted_fuel_type      36714\n",
      "dtype: int64\n",
      "brand                        0\n",
      "model                        0\n",
      "milage                       0\n",
      "fuel_type                  637\n",
      "engine                     617\n",
      "transmission                40\n",
      "ext_col                    223\n",
      "int_col                   2953\n",
      "accident                  1632\n",
      "clean_title              14239\n",
      "age                          0\n",
      "extracted_horsepower     22181\n",
      "extracted_engine_size     4380\n",
      "extracted_cylinders      25150\n",
      "extracted_fuel_type      24398\n",
      "dtype: int64\n"
     ]
    }
   ],
   "source": [
    "# Verificar el número de valores nulos en cada columna\n",
    "print(X_train.isnull().sum())\n",
    "\n",
    "print(X_test.isnull().sum())"
   ]
  },
  {
   "cell_type": "markdown",
   "metadata": {},
   "source": [
    "## Rellenar los valores faltantes de las columnas 'fuel_type', 'extracted_horsepower', 'extracted_engine_size', 'extracted_cylinders' con los valores correspondientes presentes en las columnas \"brand\" y \"model\" en X_train"
   ]
  },
  {
   "cell_type": "code",
   "execution_count": 1279,
   "metadata": {},
   "outputs": [
    {
     "name": "stdout",
     "output_type": "stream",
     "text": [
      "fuel_type                  20\n",
      "extracted_horsepower      801\n",
      "extracted_engine_size    1194\n",
      "extracted_cylinders      3716\n",
      "dtype: int64\n"
     ]
    }
   ],
   "source": [
    "# Definir las columnas a rellenar\n",
    "columnas_a_rellenar = ['fuel_type', 'extracted_horsepower', 'extracted_engine_size', 'extracted_cylinders']\n",
    "\n",
    "# Iterar sobre cada combinación de 'brand' y 'model'\n",
    "for (brand, model), group in X_train.groupby(['brand', 'model']):\n",
    "    # Para cada columna a rellenar\n",
    "    for columna in columnas_a_rellenar:\n",
    "        # Obtener los valores no faltantes (que no sean NaN)\n",
    "        valores_no_faltantes = group[columna].dropna()\n",
    "\n",
    "        # Si hay algún valor no faltante, usar el primero para reemplazar los faltantes\n",
    "        if not valores_no_faltantes.empty:\n",
    "            valor_a_usar = valores_no_faltantes.iloc[0]\n",
    "\n",
    "            # Reemplazar los valores faltantes en la columna con el valor encontrado\n",
    "            X_train.loc[(X_train['brand'] == brand) & (X_train['model'] == model) & \n",
    "                   (X_train[columna].isna()), columna] = valor_a_usar\n",
    "\n",
    "# Verificar si los valores faltantes fueron rellenados\n",
    "print(X_train[columnas_a_rellenar].isnull().sum())\n"
   ]
  },
  {
   "cell_type": "markdown",
   "metadata": {},
   "source": [
    "## Rellenar los valores faltantes de las columnas 'fuel_type', 'extracted_horsepower', 'extracted_engine_size', 'extracted_cylinders' con los valores correspondientes presentes en las columnas \"brand\" y \"model\" en X_test"
   ]
  },
  {
   "cell_type": "code",
   "execution_count": 1280,
   "metadata": {},
   "outputs": [
    {
     "name": "stdout",
     "output_type": "stream",
     "text": [
      "fuel_type                  11\n",
      "extracted_horsepower      783\n",
      "extracted_engine_size    1766\n",
      "extracted_cylinders      3682\n",
      "dtype: int64\n"
     ]
    }
   ],
   "source": [
    "# Definir las columnas a rellenar\n",
    "columnas_a_rellenar = ['fuel_type', 'extracted_horsepower', 'extracted_engine_size', 'extracted_cylinders']\n",
    "\n",
    "# Iterar sobre cada combinación de 'brand' y 'model'\n",
    "for (brand, model), group in X_test.groupby(['brand', 'model']):\n",
    "    # Para cada columna a rellenar\n",
    "    for columna in columnas_a_rellenar:\n",
    "        # Obtener los valores no faltantes (que no sean NaN)\n",
    "        valores_no_faltantes = group[columna].dropna()\n",
    "\n",
    "        # Si hay algún valor no faltante, usar el primero para reemplazar los faltantes\n",
    "        if not valores_no_faltantes.empty:\n",
    "            valor_a_usar = valores_no_faltantes.iloc[0]\n",
    "\n",
    "            # Reemplazar los valores faltantes en la columna con el valor encontrado\n",
    "            X_test.loc[(X_test['brand'] == brand) & (X_test['model'] == model) & \n",
    "                       (X_test[columna].isna()), columna] = valor_a_usar\n",
    "\n",
    "# Verificar si los valores faltantes fueron rellenados\n",
    "print(X_test[columnas_a_rellenar].isnull().sum())\n"
   ]
  },
  {
   "cell_type": "markdown",
   "metadata": {},
   "source": [
    "## Verificar valores nulos"
   ]
  },
  {
   "cell_type": "code",
   "execution_count": 1281,
   "metadata": {},
   "outputs": [
    {
     "name": "stdout",
     "output_type": "stream",
     "text": [
      "brand                        0\n",
      "model                        0\n",
      "milage                       0\n",
      "fuel_type                   20\n",
      "engine                     925\n",
      "transmission                87\n",
      "ext_col                    366\n",
      "int_col                   4527\n",
      "accident                  2452\n",
      "clean_title              21419\n",
      "price                        0\n",
      "age                          0\n",
      "extracted_horsepower       801\n",
      "extracted_engine_size     1194\n",
      "extracted_cylinders       3716\n",
      "extracted_fuel_type      36714\n",
      "dtype: int64\n",
      "brand                        0\n",
      "model                        0\n",
      "milage                       0\n",
      "fuel_type                   11\n",
      "engine                     617\n",
      "transmission                40\n",
      "ext_col                    223\n",
      "int_col                   2953\n",
      "accident                  1632\n",
      "clean_title              14239\n",
      "age                          0\n",
      "extracted_horsepower       783\n",
      "extracted_engine_size     1766\n",
      "extracted_cylinders       3682\n",
      "extracted_fuel_type      24398\n",
      "dtype: int64\n"
     ]
    }
   ],
   "source": [
    "# Verificar el número de valores nulos en cada columna\n",
    "print(X_train.isnull().sum())\n",
    "\n",
    "print(X_test.isnull().sum())"
   ]
  },
  {
   "cell_type": "markdown",
   "metadata": {},
   "source": [
    "## Eliminar las columnas \"extracted_fuel_type\" y \"engine\" de X_train y X_test"
   ]
  },
  {
   "cell_type": "code",
   "execution_count": 1282,
   "metadata": {},
   "outputs": [],
   "source": [
    "# Eliminar las columnas 'extracted_fuel_type' y 'engine' de X_train\n",
    "X_train.drop(['extracted_fuel_type', 'engine'], axis=1, inplace=True)\n",
    "\n",
    "# Eliminar las columnas 'extracted_fuel_type' y 'engine' de X_test\n",
    "X_test.drop(['extracted_fuel_type', 'engine'], axis=1, inplace=True)\n"
   ]
  },
  {
   "cell_type": "markdown",
   "metadata": {},
   "source": [
    "## Graficar histogramas, gráficos de caja y matriz de correlación de X_train_cleaned"
   ]
  },
  {
   "cell_type": "code",
   "execution_count": 1283,
   "metadata": {},
   "outputs": [
    {
     "data": {
      "image/png": "[encoded data removed]",
      "text/plain": [
       "<Figure size 1500x1000 with 6 Axes>"
      ]
     },
     "metadata": {},
     "output_type": "display_data"
    },
    {
     "data": {
      "image/png": "[encoded data removed]",
      "text/plain": [
       "<Figure size 1500x1000 with 6 Axes>"
      ]
     },
     "metadata": {},
     "output_type": "display_data"
    },
    {
     "data": {
      "image/png": "[encoded data removed]",
      "text/plain": [
       "<Figure size 1200x1000 with 2 Axes>"
      ]
     },
     "metadata": {},
     "output_type": "display_data"
    }
   ],
   "source": [
    "# Establecer el estilo de seaborn\n",
    "sns.set(style='whitegrid')\n",
    "\n",
    "# Eliminar la columna 'PassengerId' del DataFrame\n",
    "X_train = X_train.drop(columns=['id'], errors='ignore')\n",
    "\n",
    "# 1. Histogramas\n",
    "def plot_histograms(X_train):\n",
    "    numeric_data = X_train.select_dtypes(include=['float64', 'int64'])\n",
    "    numeric_data.hist(bins=30, figsize=(15, 10))\n",
    "    plt.suptitle('Histogramas de las características')\n",
    "    plt.show()\n",
    "\n",
    "plot_histograms(X_train)\n",
    "\n",
    "# 2. Gráficos de caja para detectar valores atípicos\n",
    "def box_plots(X_train):\n",
    "    plt.figure(figsize=(15, 10))\n",
    "    numeric_columns = X_train.select_dtypes(include=['float64', 'int64']).columns\n",
    "    for i, column in enumerate(numeric_columns, 1):\n",
    "        plt.subplot(4, 4, i)\n",
    "        sns.boxplot(y=X_train[column])\n",
    "        plt.title(column)\n",
    "    plt.tight_layout()\n",
    "    plt.show()\n",
    "\n",
    "box_plots(X_train)\n",
    "\n",
    "# 3. Matriz de correlación\n",
    "def correlation_heatmap(X_train):\n",
    "    numeric_data = X_train.select_dtypes(include=['float64', 'int64'])\n",
    "    plt.figure(figsize=(12, 10))\n",
    "    correlation_matrix = numeric_data.corr()\n",
    "    sns.heatmap(correlation_matrix, annot=True, fmt='.2f', cmap='coolwarm', square=True)\n",
    "    plt.title('Matriz de correlación')\n",
    "    plt.show()\n",
    "\n",
    "correlation_heatmap(X_train)\n"
   ]
  },
  {
   "cell_type": "markdown",
   "metadata": {},
   "source": [
    "## Eliminar la columna \"extracted_cylinders\" en X_train y X_test porque tiene una alta correlación"
   ]
  },
  {
   "cell_type": "code",
   "execution_count": 1284,
   "metadata": {},
   "outputs": [],
   "source": [
    "# Eliminar la columna 'extracted_cylinders' de X_train\n",
    "X_train.drop('extracted_cylinders', axis=1, inplace=True)\n",
    "\n",
    "# Eliminar la columna 'extracted_cylinders' de X_test\n",
    "X_test.drop('extracted_cylinders', axis=1, inplace=True)\n"
   ]
  },
  {
   "cell_type": "markdown",
   "metadata": {},
   "source": [
    "## Identificar los outliers"
   ]
  },
  {
   "cell_type": "code",
   "execution_count": 1285,
   "metadata": {},
   "outputs": [
    {
     "name": "stdout",
     "output_type": "stream",
     "text": [
      "Número de outliers en age: 5132\n",
      "Número de outliers en milage: 1766\n",
      "Número de outliers en price: 10880\n"
     ]
    }
   ],
   "source": [
    "def count_outliers_iqr(X_train, column):\n",
    "    Q1 = X_train[column].quantile(0.25)\n",
    "    Q3 = X_train[column].quantile(0.75)\n",
    "    IQR = Q3 - Q1\n",
    "    lower_bound = Q1 - 1.5 * IQR\n",
    "    upper_bound = Q3 + 1.5 * IQR\n",
    "    # Contar los outliers\n",
    "    outlier_count = X_train[(X_train[column] < lower_bound) | (X_train[column] > upper_bound)].shape[0]\n",
    "    return outlier_count\n",
    "\n",
    "# Contar outliers en cada columna\n",
    "outliers_model_year_count = count_outliers_iqr(X_train, 'age')\n",
    "outliers_mileage_count = count_outliers_iqr(X_train, 'milage')\n",
    "outliers_price_count = count_outliers_iqr(X_train, 'price')\n",
    "\n",
    "# Mostrar el conteo de outliers\n",
    "print(f\"Número de outliers en age: {outliers_model_year_count}\")\n",
    "print(f\"Número de outliers en milage: {outliers_mileage_count}\")\n",
    "print(f\"Número de outliers en price: {outliers_price_count}\")\n",
    "\n",
    "\n"
   ]
  },
  {
   "cell_type": "markdown",
   "metadata": {},
   "source": [
    "## Verificación de frecuencias de cada categoría"
   ]
  },
  {
   "cell_type": "code",
   "execution_count": 1286,
   "metadata": {},
   "outputs": [
    {
     "name": "stdout",
     "output_type": "stream",
     "text": [
      "Frecuencias para la columna brand:\n",
      "brand\n",
      "Ford             23088\n",
      "Mercedes-Benz    19172\n",
      "BMW              17028\n",
      "Chevrolet        16335\n",
      "Audi             10887\n",
      "Porsche          10612\n",
      "Land              9525\n",
      "Toyota            8850\n",
      "Lexus             8643\n",
      "Jeep              6474\n",
      "Cadillac          4674\n",
      "RAM               4249\n",
      "Nissan            3930\n",
      "Tesla             3738\n",
      "INFINITI          3276\n",
      "GMC               3215\n",
      "Dodge             3133\n",
      "Mazda             2719\n",
      "Kia               2497\n",
      "Lincoln           2423\n",
      "Subaru            2381\n",
      "Acura             2282\n",
      "Honda             2101\n",
      "Hyundai           2045\n",
      "Volkswagen        1765\n",
      "Jaguar            1319\n",
      "Bentley           1155\n",
      "MINI              1064\n",
      "Genesis            969\n",
      "Buick              940\n",
      "Maserati           939\n",
      "Lamborghini        809\n",
      "Chrysler           727\n",
      "Volvo              723\n",
      "Alfa               682\n",
      "Rivian             590\n",
      "Rolls-Royce        561\n",
      "Mitsubishi         551\n",
      "Pontiac            538\n",
      "Hummer             520\n",
      "Ferrari            359\n",
      "McLaren            243\n",
      "Aston              238\n",
      "Saturn             148\n",
      "Scion              120\n",
      "Lucid               69\n",
      "Mercury             57\n",
      "Lotus               52\n",
      "FIAT                44\n",
      "Saab                22\n",
      "Karma               17\n",
      "Suzuki               8\n",
      "Plymouth             7\n",
      "Polestar             7\n",
      "Bugatti              7\n",
      "smart                3\n",
      "Maybach              3\n",
      "Name: count, dtype: int64\n",
      "\n",
      "\n",
      "Frecuencias para la columna model:\n",
      "model\n",
      "F-150 XLT                        2945\n",
      "M3 Base                          2229\n",
      "Camaro 2SS                       1709\n",
      "M4 Base                          1622\n",
      "Mustang GT Premium               1526\n",
      "                                 ... \n",
      "ForTwo Pure                         2\n",
      "XLR Base                            1\n",
      "X5 3.0i                             1\n",
      "X5 xDrive40e                        1\n",
      "Integra w/A-Spec Tech Package       1\n",
      "Name: count, Length: 1897, dtype: int64\n",
      "\n",
      "\n",
      "Frecuencias para la columna fuel_type:\n",
      "fuel_type\n",
      "Gasoline          166761\n",
      "Hybrid              6840\n",
      "E85 Flex Fuel       5411\n",
      "electric            4930\n",
      "Diesel              3980\n",
      "Plug-In Hybrid       521\n",
      "gasoline              53\n",
      "not supported         15\n",
      "diesel                 2\n",
      "Name: count, dtype: int64\n",
      "\n",
      "\n",
      "Frecuencias para la columna transmission:\n",
      "transmission\n",
      "A/T                                                   49904\n",
      "8-Speed A/T                                           20645\n",
      "Transmission w/Dual Shift Mode                        19255\n",
      "6-Speed A/T                                           18044\n",
      "6-Speed M/T                                           11998\n",
      "7-Speed A/T                                           11124\n",
      "Automatic                                             10691\n",
      "8-Speed Automatic                                      8431\n",
      "10-Speed A/T                                           8044\n",
      "9-Speed A/T                                            3866\n",
      "5-Speed A/T                                            3217\n",
      "10-Speed Automatic                                     3164\n",
      "6-Speed Automatic                                      2799\n",
      "4-Speed A/T                                            2546\n",
      "5-Speed M/T                                            2409\n",
      "9-Speed Automatic                                      2325\n",
      "CVT Transmission                                       1990\n",
      "1-Speed A/T                                            1869\n",
      "M/T                                                    1179\n",
      "7-Speed Automatic with Auto-Shift                      1172\n",
      "Automatic CVT                                           829\n",
      "8-Speed Automatic with Auto-Shift                       549\n",
      "1-Speed Automatic                                       365\n",
      "7-Speed M/T                                             355\n",
      "6-Speed Manual                                          211\n",
      "7-Speed Automatic                                       178\n",
      "5-Speed Automatic                                       159\n",
      "Transmission Overdrive Switch                           156\n",
      "7-Speed Manual                                          151\n",
      "6-Speed Automatic with Auto-Shift                       111\n",
      "2                                                        91\n",
      "2-Speed A/T                                              71\n",
      "Variable                                                 66\n",
      "F                                                        65\n",
      "4-Speed Automatic                                        48\n",
      "10-Speed Automatic with Overdrive                        40\n",
      "6 Speed Mt                                               37\n",
      "9-Speed Automatic with Auto-Shift                        33\n",
      "6-Speed Electronically Controlled Automatic with O       31\n",
      "7-Speed                                                  29\n",
      "8-Speed Manual                                           28\n",
      "6-Speed                                                  27\n",
      "Manual                                                   27\n",
      "2-Speed Automatic                                        22\n",
      "6 Speed At/Mt                                            20\n",
      "7-Speed DCT Automatic                                    18\n",
      "Single-Speed Fixed Gear                                  16\n",
      "CVT-F                                                    15\n",
      "8-SPEED AT                                               13\n",
      "8-SPEED A/T                                               7\n",
      "SCHEDULED FOR OR IN PRODUCTION                            6\n",
      "Name: count, dtype: int64\n",
      "\n",
      "\n",
      "Frecuencias para la columna ext_col:\n",
      "ext_col\n",
      "Black                                 48658\n",
      "White                                 43815\n",
      "Gray                                  25293\n",
      "Silver                                16995\n",
      "Blue                                  14555\n",
      "                                      ...  \n",
      "Granite Crystal Metallic Clearcoat        5\n",
      "GT SILVER                                 5\n",
      "Blue Caelum                               5\n",
      "BLUE                                      3\n",
      "Mango Tango Pearlcoat                     2\n",
      "Name: count, Length: 318, dtype: int64\n",
      "\n",
      "\n",
      "Frecuencias para la columna int_col:\n",
      "int_col\n",
      "Black           107674\n",
      "Beige            24495\n",
      "Gray             21204\n",
      "Brown             5810\n",
      "Red               5145\n",
      "                 ...  \n",
      "Bianco Polar         7\n",
      "Classic Red          7\n",
      "Cobalt Blue          6\n",
      "WHITE                6\n",
      "ORANGE               4\n",
      "Name: count, Length: 155, dtype: int64\n",
      "\n",
      "\n",
      "Frecuencias para la columna accident:\n",
      "accident\n",
      "None reported                             144514\n",
      "At least 1 accident or damage reported     41567\n",
      "Name: count, dtype: int64\n",
      "\n",
      "\n",
      "Frecuencias para la columna clean_title:\n",
      "clean_title\n",
      "Yes    167114\n",
      "Name: count, dtype: int64\n",
      "\n",
      "\n"
     ]
    }
   ],
   "source": [
    "# Mostrar frecuencias de cada columna categórica antes de la agrupación\n",
    "for column in X_train.select_dtypes(include=['object']).columns:\n",
    "    print(f'Frecuencias para la columna {column}:')\n",
    "    print(X_train[column].value_counts())\n",
    "    print(\"\\n\")\n"
   ]
  },
  {
   "cell_type": "markdown",
   "metadata": {},
   "source": [
    "## Dividir la columna de transmisión entre \"automaticos\" y \"no automáticos\" para simplificar la sobrerrepresentación en X_train"
   ]
  },
  {
   "cell_type": "code",
   "execution_count": 1287,
   "metadata": {},
   "outputs": [],
   "source": [
    "columns = X_train.columns\n",
    "n_values = [X_train[a].unique() for a in X_train.columns]\n",
    "\n",
    "cuenta = pd.DataFrame()\n",
    "cuenta['features'] = columns\n",
    "cuenta['n_values'] = n_values\n",
    "\n",
    "# Para acceder al valor en la posición [7, 1]\n",
    "transmission_list = cuenta.iloc[7, 1]\n",
    "\n",
    "\n",
    "\n",
    "X_train_t = pd.DataFrame(transmission_list, columns=['transmission'])\n",
    "\n",
    "def assign_transmission_type(transmission):\n",
    "    if isinstance(transmission, str) and ('automatic' in transmission.lower() or 'a/t' in transmission.lower()):\n",
    "        return 0  # Transmisión automática\n",
    "    else:\n",
    "        return 1  # Resto de transmisiones\n",
    "\n",
    "X_train['transmission_type'] = X_train['transmission'].apply(assign_transmission_type)"
   ]
  },
  {
   "cell_type": "markdown",
   "metadata": {},
   "source": [
    "## Dividir la columna de transmisión entre \"automaticos\" y \"no automáticos\" para simplificar la sobrerrepresentación en X_test"
   ]
  },
  {
   "cell_type": "code",
   "execution_count": 1288,
   "metadata": {},
   "outputs": [],
   "source": [
    "# Extraer las columnas y los valores únicos de X_test\n",
    "columns = X_test.columns\n",
    "n_values = [X_test[a].unique() for a in X_test.columns]\n",
    "\n",
    "# Crear un DataFrame con las características y sus valores únicos\n",
    "cuenta = pd.DataFrame()\n",
    "cuenta['features'] = columns\n",
    "cuenta['n_values'] = n_values\n",
    "\n",
    "# Para acceder al valor en la posición [7, 1] del DataFrame cuenta\n",
    "transmission_list = cuenta.iloc[7, 1]\n",
    "\n",
    "# Crear un DataFrame con los valores de 'transmission'\n",
    "X_test_t = pd.DataFrame(transmission_list, columns=['transmission'])\n",
    "\n",
    "# Definir una función para asignar el tipo de transmisión\n",
    "def assign_transmission_type(transmission):\n",
    "    if isinstance(transmission, str) and ('automatic' in transmission.lower() or 'a/t' in transmission.lower()):\n",
    "        return 0  # Transmisión automática\n",
    "    else:\n",
    "        return 1  # Resto de transmisiones\n",
    "\n",
    "# Aplicar la función al DataFrame X_test y crear una nueva columna 'transmission_type'\n",
    "X_test['transmission_type'] = X_test['transmission'].apply(assign_transmission_type)\n"
   ]
  },
  {
   "cell_type": "markdown",
   "metadata": {},
   "source": [
    "## Calcular valores nulos en X_train y X_test"
   ]
  },
  {
   "cell_type": "code",
   "execution_count": 1289,
   "metadata": {},
   "outputs": [
    {
     "data": {
      "text/plain": [
       "brand                        0\n",
       "model                        0\n",
       "milage                       0\n",
       "fuel_type                   11\n",
       "transmission                40\n",
       "ext_col                    223\n",
       "int_col                   2953\n",
       "accident                  1632\n",
       "clean_title              14239\n",
       "age                          0\n",
       "extracted_horsepower       783\n",
       "extracted_engine_size     1766\n",
       "transmission_type            0\n",
       "dtype: int64"
      ]
     },
     "execution_count": 1289,
     "metadata": {},
     "output_type": "execute_result"
    }
   ],
   "source": [
    "X_train.isnull().sum()\n",
    "X_test.isnull().sum()"
   ]
  },
  {
   "cell_type": "markdown",
   "metadata": {},
   "source": [
    " ## Agrupar marcas de coches menos frecuentes en la columna \"brand\" en X_train"
   ]
  },
  {
   "cell_type": "code",
   "execution_count": 1290,
   "metadata": {},
   "outputs": [
    {
     "name": "stdout",
     "output_type": "stream",
     "text": [
      "brand\n",
      "Ford             23088\n",
      "Mercedes-Benz    19172\n",
      "BMW              17028\n",
      "Chevrolet        16335\n",
      "Audi             10887\n",
      "Porsche          10612\n",
      "Otras             9953\n",
      "Land              9525\n",
      "Toyota            8850\n",
      "Lexus             8643\n",
      "Jeep              6474\n",
      "Cadillac          4674\n",
      "RAM               4249\n",
      "Nissan            3930\n",
      "Tesla             3738\n",
      "INFINITI          3276\n",
      "GMC               3215\n",
      "Dodge             3133\n",
      "Mazda             2719\n",
      "Kia               2497\n",
      "Lincoln           2423\n",
      "Subaru            2381\n",
      "Acura             2282\n",
      "Honda             2101\n",
      "Hyundai           2045\n",
      "Volkswagen        1765\n",
      "Jaguar            1319\n",
      "Bentley           1155\n",
      "MINI              1064\n",
      "Name: count, dtype: int64\n"
     ]
    }
   ],
   "source": [
    "# Contar frecuencias\n",
    "brand_counts = X_train['brand'].value_counts()\n",
    "\n",
    "# Establecer un umbral para conservar las marcas\n",
    "threshold = 1000  # Cambia esto según tus necesidades\n",
    "top_brands = brand_counts[brand_counts > threshold].index\n",
    "\n",
    "# Reemplazar las marcas menos frecuentes por 'Otras'\n",
    "X_train['brand'] = X_train['brand'].where(X_train['brand'].isin(top_brands), 'Otras')\n",
    "\n",
    "# Verificar la nueva frecuencia\n",
    "print(X_train['brand'].value_counts())\n",
    "\n"
   ]
  },
  {
   "cell_type": "markdown",
   "metadata": {},
   "source": [
    " ## Agrupar marcas de coches menos frecuentes en la columna \"brand\" en X_test"
   ]
  },
  {
   "cell_type": "code",
   "execution_count": 1291,
   "metadata": {},
   "outputs": [
    {
     "name": "stdout",
     "output_type": "stream",
     "text": [
      "brand\n",
      "Ford             15265\n",
      "Mercedes-Benz    12875\n",
      "BMW              11286\n",
      "Chevrolet        10698\n",
      "Otras             9153\n",
      "Audi              7289\n",
      "Porsche           7153\n",
      "Land              6348\n",
      "Toyota            6084\n",
      "Lexus             5729\n",
      "Jeep              4412\n",
      "Cadillac          3059\n",
      "RAM               2753\n",
      "Nissan            2674\n",
      "Tesla             2387\n",
      "INFINITI          2123\n",
      "GMC               2094\n",
      "Dodge             2071\n",
      "Mazda             1770\n",
      "Kia               1750\n",
      "Lincoln           1593\n",
      "Subaru            1591\n",
      "Acura             1567\n",
      "Honda             1436\n",
      "Hyundai           1308\n",
      "Volkswagen        1222\n",
      "Name: count, dtype: int64\n"
     ]
    }
   ],
   "source": [
    "\n",
    "\n",
    "# Contar frecuencias\n",
    "brand_counts = X_test['brand'].value_counts()\n",
    "\n",
    "# Establecer un umbral para conservar las marcas\n",
    "threshold = 1000  # Cambia esto según tus necesidades\n",
    "top_brands = brand_counts[brand_counts > threshold].index\n",
    "\n",
    "# Reemplazar las marcas menos frecuentes por 'Otras'\n",
    "X_test['brand'] = X_test['brand'].where(X_test['brand'].isin(top_brands), 'Otras')\n",
    "\n",
    "# Verifica la nueva frecuencia\n",
    "print(X_test['brand'].value_counts())\n"
   ]
  },
  {
   "cell_type": "markdown",
   "metadata": {},
   "source": [
    "## Eliminar la columna \"clean_title\" y \"age\" de X_train y X_test. \"Age\" la elimino porque tiene una correlación muy alta con \"milage\". \"Clean_type\" la elimino porque no aporta información."
   ]
  },
  {
   "cell_type": "code",
   "execution_count": 1292,
   "metadata": {},
   "outputs": [
    {
     "name": "stdout",
     "output_type": "stream",
     "text": [
      "Columnas en X_train_cleaned: Index(['brand', 'model', 'milage', 'fuel_type', 'transmission', 'ext_col',\n",
      "       'int_col', 'accident', 'price', 'age', 'extracted_horsepower',\n",
      "       'extracted_engine_size', 'transmission_type'],\n",
      "      dtype='object')\n",
      "Columnas en X_test_cleaned: Index(['brand', 'model', 'milage', 'fuel_type', 'transmission', 'ext_col',\n",
      "       'int_col', 'accident', 'age', 'extracted_horsepower',\n",
      "       'extracted_engine_size', 'transmission_type'],\n",
      "      dtype='object')\n"
     ]
    }
   ],
   "source": [
    "# Eliminar las columnas 'clean_title' y 'age' de X_train_cleaned y X_test_cleaned\n",
    "X_train_cleaned = X_train.drop(columns=['clean_title'], errors='ignore')\n",
    "X_test_cleaned = X_test.drop(columns=['clean_title'], errors='ignore')\n",
    "\n",
    "# Verificar que las columnas hayan sido eliminadas\n",
    "print(\"Columnas en X_train_cleaned:\", X_train_cleaned.columns)\n",
    "print(\"Columnas en X_test_cleaned:\", X_test_cleaned.columns)\n"
   ]
  },
  {
   "cell_type": "markdown",
   "metadata": {},
   "source": [
    "## Reemplazar valores nulos en el dataset X_train_cleaned con la media para los valores numéricos y la moda para las variables categóricas"
   ]
  },
  {
   "cell_type": "code",
   "execution_count": 1293,
   "metadata": {},
   "outputs": [
    {
     "name": "stdout",
     "output_type": "stream",
     "text": [
      "brand                    0\n",
      "model                    0\n",
      "milage                   0\n",
      "fuel_type                0\n",
      "transmission             0\n",
      "ext_col                  0\n",
      "int_col                  0\n",
      "accident                 0\n",
      "price                    0\n",
      "age                      0\n",
      "extracted_horsepower     0\n",
      "extracted_engine_size    0\n",
      "transmission_type        0\n",
      "dtype: int64\n"
     ]
    }
   ],
   "source": [
    "# Para columnas numéricas: reemplazar NaN con la media\n",
    "numerical_cols = X_train_cleaned.select_dtypes(include=['float64', 'int64']).columns\n",
    "X_train_cleaned[numerical_cols] = X_train_cleaned[numerical_cols].fillna(X_train_cleaned[numerical_cols].mean())\n",
    "\n",
    "# Para columnas categóricas: reemplazar NaN con la moda\n",
    "categorical_cols = X_train_cleaned.select_dtypes(include=['object']).columns\n",
    "for col in categorical_cols:\n",
    "    moda = X_train_cleaned[col].mode()[0]  # Obtener la moda\n",
    "    X_train_cleaned[col] = X_train_cleaned[col].fillna(moda)  # Reemplazar NaN con la moda\n",
    "\n",
    "# Verificar si hay valores nulos restantes\n",
    "print(X_train_cleaned.isnull().sum())\n"
   ]
  },
  {
   "cell_type": "markdown",
   "metadata": {},
   "source": [
    "## Reemplazar valores nulos en el dataset X_test_cleaned con la media para los valores numéricos y la moda para las variables categóricas"
   ]
  },
  {
   "cell_type": "code",
   "execution_count": 1294,
   "metadata": {},
   "outputs": [
    {
     "name": "stdout",
     "output_type": "stream",
     "text": [
      "brand                    0\n",
      "model                    0\n",
      "milage                   0\n",
      "fuel_type                0\n",
      "transmission             0\n",
      "ext_col                  0\n",
      "int_col                  0\n",
      "accident                 0\n",
      "age                      0\n",
      "extracted_horsepower     0\n",
      "extracted_engine_size    0\n",
      "transmission_type        0\n",
      "dtype: int64\n"
     ]
    }
   ],
   "source": [
    "# Para columnas numéricas: reemplazar NaN con la media\n",
    "numerical_cols = X_test_cleaned.select_dtypes(include=['float64', 'int64']).columns\n",
    "X_test_cleaned[numerical_cols] = X_test_cleaned[numerical_cols].fillna(X_test_cleaned[numerical_cols].mean())\n",
    "\n",
    "# Para columnas categóricas: reemplazar NaN con la moda\n",
    "categorical_cols = X_test_cleaned.select_dtypes(include=['object']).columns\n",
    "for col in categorical_cols:\n",
    "    moda = X_test_cleaned[col].mode()[0]  # Obtener la moda\n",
    "    X_test_cleaned[col] = X_test_cleaned[col].fillna(moda)  # Reemplazar NaN con la moda\n",
    "\n",
    "# Verificar si hay valores nulos restantes\n",
    "print(X_test_cleaned.isnull().sum())\n",
    "\n"
   ]
  },
  {
   "cell_type": "markdown",
   "metadata": {},
   "source": [
    "## Verificar de nuevo los valores nulos o NaN"
   ]
  },
  {
   "cell_type": "code",
   "execution_count": 1295,
   "metadata": {},
   "outputs": [
    {
     "name": "stdout",
     "output_type": "stream",
     "text": [
      "brand                    0\n",
      "model                    0\n",
      "milage                   0\n",
      "fuel_type                0\n",
      "transmission             0\n",
      "ext_col                  0\n",
      "int_col                  0\n",
      "accident                 0\n",
      "price                    0\n",
      "age                      0\n",
      "extracted_horsepower     0\n",
      "extracted_engine_size    0\n",
      "transmission_type        0\n",
      "dtype: int64\n",
      "brand                    0\n",
      "model                    0\n",
      "milage                   0\n",
      "fuel_type                0\n",
      "transmission             0\n",
      "ext_col                  0\n",
      "int_col                  0\n",
      "accident                 0\n",
      "age                      0\n",
      "extracted_horsepower     0\n",
      "extracted_engine_size    0\n",
      "transmission_type        0\n",
      "dtype: int64\n"
     ]
    }
   ],
   "source": [
    "print(X_train_cleaned.isnull().sum())\n",
    "print(X_test_cleaned.isnull().sum())\n"
   ]
  },
  {
   "cell_type": "markdown",
   "metadata": {},
   "source": [
    "## Encoding de X_train_cleaned label encoding"
   ]
  },
  {
   "cell_type": "code",
   "execution_count": 1296,
   "metadata": {},
   "outputs": [
    {
     "name": "stdout",
     "output_type": "stream",
     "text": [
      "Columnas en X_train_cleaned: ['brand', 'model', 'milage', 'fuel_type', 'transmission', 'ext_col', 'int_col', 'accident', 'price', 'age', 'extracted_horsepower', 'extracted_engine_size', 'transmission_type']\n",
      "   brand  model  milage  fuel_type  transmission  ext_col  int_col  accident  \\\n",
      "0     18    495  213000          2            38      312       71         1   \n",
      "1     17    930  143250          2            38      263       10         0   \n",
      "2      5   1575  136731          1            38       38       71         1   \n",
      "3     22    758   19500          2            49       29       14         1   \n",
      "4     20   1077    7388          2            23       29       10         1   \n",
      "\n",
      "   price  age  extracted_horsepower  extracted_engine_size  transmission_type  \n",
      "0   4200   17                 172.0                    1.6                  0  \n",
      "1   4999   22                 252.0                    3.9                  0  \n",
      "2  13900   22                 320.0                    5.3                  0  \n",
      "3  45000    7                 420.0                    5.0                  1  \n",
      "4  97500    3                 208.0                    2.0                  0  \n"
     ]
    }
   ],
   "source": [
    "import pandas as pd\n",
    "from sklearn.preprocessing import LabelEncoder\n",
    "\n",
    "# Verifica las columnas disponibles\n",
    "print(\"Columnas en X_train_cleaned:\", X_train_cleaned.columns.tolist())\n",
    "\n",
    "# Genera la lista de columnas categóricas\n",
    "categorical_columns = [col for col in X_train_cleaned.columns if X_train_cleaned[col].dtype == 'object']\n",
    "\n",
    "# Inicializar el codificador\n",
    "label_encoder = LabelEncoder()\n",
    "\n",
    "# Aplicar el Label Encoding a cada columna categórica individualmente\n",
    "for col in categorical_columns:\n",
    "    X_train_cleaned[col] = label_encoder.fit_transform(X_train_cleaned[col])\n",
    "\n",
    "# Mostrar las primeras filas del DataFrame codificado\n",
    "print(X_train_cleaned.head())\n",
    "\n",
    "\n",
    "\n",
    "\n",
    "\n"
   ]
  },
  {
   "cell_type": "markdown",
   "metadata": {},
   "source": [
    "## Encoding de X_test_cleaned con label encoder."
   ]
  },
  {
   "cell_type": "code",
   "execution_count": 1297,
   "metadata": {},
   "outputs": [
    {
     "name": "stdout",
     "output_type": "stream",
     "text": [
      "Columnas en X_test_cleaned: ['brand', 'model', 'milage', 'fuel_type', 'transmission', 'ext_col', 'int_col', 'accident', 'age', 'extracted_horsepower', 'extracted_engine_size', 'transmission_type']\n",
      "   brand  model  milage  fuel_type  transmission  ext_col  int_col  accident  \\\n",
      "0     13   1388   98000          2            16      302       10         1   \n",
      "1     13   1375    9142          3            31      261       14         1   \n",
      "2      6    636   28121          2             3      302       57         1   \n",
      "3      1    182   61258          2            39      259       14         1   \n",
      "4      1    181   59000          2            38      127       14         1   \n",
      "\n",
      "   age  extracted_horsepower  extracted_engine_size  transmission_type  \n",
      "0    9                 240.0                    2.0                  0  \n",
      "1    4                 395.0                    3.0                  0  \n",
      "2    2                 375.0                    3.5                  0  \n",
      "3    8                 252.0                    2.0                  0  \n",
      "4    6                 252.0                    2.0                  0  \n"
     ]
    }
   ],
   "source": [
    "import pandas as pd\n",
    "from sklearn.preprocessing import LabelEncoder\n",
    "\n",
    "# Verifica las columnas disponibles\n",
    "print(\"Columnas en X_test_cleaned:\", X_test_cleaned.columns.tolist())\n",
    "\n",
    "# Genera la lista de columnas categóricas\n",
    "categorical_columns = [col for col in X_test_cleaned.columns if X_test_cleaned[col].dtype == 'object']\n",
    "\n",
    "# Inicializar el codificador\n",
    "label_encoder = LabelEncoder()\n",
    "\n",
    "# Aplicar el Label Encoding a cada columna categórica individualmente\n",
    "for col in categorical_columns:\n",
    "    X_test_cleaned[col] = label_encoder.fit_transform(X_test_cleaned[col])\n",
    "\n",
    "# Mostrar las primeras filas del DataFrame codificado\n",
    "print(X_test_cleaned.head())\n",
    "\n",
    "\n",
    "\n"
   ]
  },
  {
   "cell_type": "markdown",
   "metadata": {},
   "source": [
    "## Estandarizar variables numéricas en X_train"
   ]
  },
  {
   "cell_type": "code",
   "execution_count": 1298,
   "metadata": {},
   "outputs": [
    {
     "name": "stdout",
     "output_type": "stream",
     "text": [
      "      brand     model    milage  fuel_type  transmission   ext_col   int_col  \\\n",
      "0  0.598002 -0.713392  2.957842  -0.101378      0.641293  1.355673  1.117717   \n",
      "1  0.480451  0.120255  1.557184  -0.101378      0.641293  0.927742 -0.613244   \n",
      "2 -0.930160  1.356353  1.426276  -1.411216      0.641293 -1.037247  1.117717   \n",
      "3  1.068206 -0.209371 -0.927854  -0.101378      1.487409 -1.115847 -0.499738   \n",
      "4  0.833104  0.401970 -1.171076  -0.101378     -0.512503 -1.115847 -0.613244   \n",
      "\n",
      "   accident  price       age  extracted_horsepower  extracted_engine_size  \\\n",
      "0  0.531822   4200  1.559808             -1.496721              -1.603703   \n",
      "1 -1.880330   4999  2.443052             -0.803060               0.083989   \n",
      "2  0.531822  13900  2.443052             -0.213448               1.111279   \n",
      "3  0.531822  45000 -0.206679              0.653628               0.891146   \n",
      "4  0.531822  97500 -0.913274             -1.184573              -1.310191   \n",
      "\n",
      "   transmission_type  \n",
      "0          -0.504342  \n",
      "1          -0.504342  \n",
      "2          -0.504342  \n",
      "3           1.982780  \n",
      "4          -0.504342  \n"
     ]
    }
   ],
   "source": [
    "from sklearn.preprocessing import StandardScaler\n",
    "\n",
    "# 1. Eliminar la columna 'id' si existe\n",
    "X_train_cleaned = X_train_cleaned.drop(columns=['id'], errors='ignore')\n",
    "\n",
    "# 2. Seleccionar las columnas numéricas a estandarizar, excluyendo 'price'\n",
    "numeric_columns = X_train_cleaned.select_dtypes(include=['float64', 'int64']).columns.tolist()\n",
    "\n",
    "# Excluir la columna 'price' de la lista de columnas a estandarizar\n",
    "numeric_columns.remove('price')\n",
    "\n",
    "# 3. Inicializar el escalador\n",
    "scaler = StandardScaler()\n",
    "\n",
    "# 4. Estandarizar las columnas numéricas, excepto 'price'\n",
    "X_train_cleaned[numeric_columns] = scaler.fit_transform(X_train_cleaned[numeric_columns])\n",
    "\n",
    "# Mostrar las primeras filas del DataFrame estandarizado\n",
    "print(X_train_cleaned.head())\n",
    "\n"
   ]
  },
  {
   "cell_type": "markdown",
   "metadata": {},
   "source": [
    "## Estandarizar X_test_cleaned"
   ]
  },
  {
   "cell_type": "code",
   "execution_count": 1300,
   "metadata": {},
   "outputs": [
    {
     "name": "stdout",
     "output_type": "stream",
     "text": [
      "      brand     model    milage  fuel_type  transmission   ext_col   int_col  \\\n",
      "0  0.211008  1.001794  0.636302  -0.102818     -1.049137  1.288616 -0.613814   \n",
      "1  0.211008  0.976865 -1.132944   1.199524      0.104033  0.927500 -0.500395   \n",
      "2 -0.725140 -0.440257 -0.755054  -0.102818     -2.048551  1.288616  0.718869   \n",
      "3 -1.393817 -1.310856 -0.095265  -0.102818      0.719057  0.909884 -0.500395   \n",
      "4 -1.393817 -1.312774 -0.140224  -0.102818      0.642179 -0.252735 -0.500395   \n",
      "\n",
      "   accident       age  extracted_horsepower  extracted_engine_size  \\\n",
      "0  0.532848  0.140564             -0.910676              -1.318377   \n",
      "1  0.532848 -0.740684              0.445808              -0.581326   \n",
      "2  0.532848 -1.093183              0.270777              -0.212801   \n",
      "3  0.532848 -0.035686             -0.805658              -1.318377   \n",
      "4  0.532848 -0.388185             -0.805658              -1.318377   \n",
      "\n",
      "   transmission_type  \n",
      "0           -0.50318  \n",
      "1           -0.50318  \n",
      "2           -0.50318  \n",
      "3           -0.50318  \n",
      "4           -0.50318  \n"
     ]
    }
   ],
   "source": [
    "from sklearn.preprocessing import StandardScaler\n",
    "\n",
    "# 1. Eliminar la columna 'id' si existe\n",
    "X_test_cleaned = X_test_cleaned.drop(columns=['id'], errors='ignore')\n",
    "\n",
    "# 2. Seleccionar las columnas numéricas a estandarizar, excluyendo 'price'\n",
    "numeric_columns = X_test_cleaned.select_dtypes(include=['float64', 'int64']).columns.tolist()\n",
    "\n",
    "# Excluir la columna 'price' de la lista de columnas a estandarizar\n",
    "\n",
    "\n",
    "# 3. Inicializar el escalador\n",
    "scaler = StandardScaler()\n",
    "\n",
    "# 4. Estandarizar las columnas numéricas, excepto 'price'\n",
    "X_test_cleaned[numeric_columns] = scaler.fit_transform(X_test_cleaned[numeric_columns])\n",
    "\n",
    "# Mostrar las primeras filas del DataFrame estandarizado\n",
    "print(X_test_cleaned.head())\n",
    "\n",
    "\n"
   ]
  },
  {
   "cell_type": "markdown",
   "metadata": {},
   "source": [
    "## Separación de la variable objetivo del dataset X_train_cleaned"
   ]
  },
  {
   "cell_type": "code",
   "execution_count": 1301,
   "metadata": {},
   "outputs": [
    {
     "name": "stdout",
     "output_type": "stream",
     "text": [
      "Características (X_train_features):\n",
      "      brand     model    milage  fuel_type  transmission   ext_col   int_col  \\\n",
      "0  0.598002 -0.713392  2.957842  -0.101378      0.641293  1.355673  1.117717   \n",
      "1  0.480451  0.120255  1.557184  -0.101378      0.641293  0.927742 -0.613244   \n",
      "2 -0.930160  1.356353  1.426276  -1.411216      0.641293 -1.037247  1.117717   \n",
      "3  1.068206 -0.209371 -0.927854  -0.101378      1.487409 -1.115847 -0.499738   \n",
      "4  0.833104  0.401970 -1.171076  -0.101378     -0.512503 -1.115847 -0.613244   \n",
      "\n",
      "   accident       age  extracted_horsepower  extracted_engine_size  \\\n",
      "0  0.531822  1.559808             -1.496721              -1.603703   \n",
      "1 -1.880330  2.443052             -0.803060               0.083989   \n",
      "2  0.531822  2.443052             -0.213448               1.111279   \n",
      "3  0.531822 -0.206679              0.653628               0.891146   \n",
      "4  0.531822 -0.913274             -1.184573              -1.310191   \n",
      "\n",
      "   transmission_type  \n",
      "0          -0.504342  \n",
      "1          -0.504342  \n",
      "2          -0.504342  \n",
      "3           1.982780  \n",
      "4          -0.504342  \n",
      "\n",
      "Variable objetivo (y_train):\n",
      "0     4200\n",
      "1     4999\n",
      "2    13900\n",
      "3    45000\n",
      "4    97500\n",
      "Name: price, dtype: int64\n",
      "      brand     model    milage  fuel_type  transmission   ext_col   int_col  \\\n",
      "0  0.211008  1.001794  0.636302  -0.102818     -1.049137  1.288616 -0.613814   \n",
      "1  0.211008  0.976865 -1.132944   1.199524      0.104033  0.927500 -0.500395   \n",
      "2 -0.725140 -0.440257 -0.755054  -0.102818     -2.048551  1.288616  0.718869   \n",
      "3 -1.393817 -1.310856 -0.095265  -0.102818      0.719057  0.909884 -0.500395   \n",
      "4 -1.393817 -1.312774 -0.140224  -0.102818      0.642179 -0.252735 -0.500395   \n",
      "\n",
      "   accident       age  extracted_horsepower  extracted_engine_size  \\\n",
      "0  0.532848  0.140564             -0.910676              -1.318377   \n",
      "1  0.532848 -0.740684              0.445808              -0.581326   \n",
      "2  0.532848 -1.093183              0.270777              -0.212801   \n",
      "3  0.532848 -0.035686             -0.805658              -1.318377   \n",
      "4  0.532848 -0.388185             -0.805658              -1.318377   \n",
      "\n",
      "   transmission_type  \n",
      "0           -0.50318  \n",
      "1           -0.50318  \n",
      "2           -0.50318  \n",
      "3           -0.50318  \n",
      "4           -0.50318  \n"
     ]
    }
   ],
   "source": [
    "# 1. Separar la variable objetivo 'price'\n",
    "y_train = X_train_cleaned['price']\n",
    "\n",
    "# 2. Eliminar la variable objetivo del conjunto de características\n",
    "X_train_features = X_train_cleaned.drop(columns=['price'])\n",
    "\n",
    "# Mostrar las primeras filas de las características y la variable objetivo\n",
    "print(\"Características (X_train_features):\")\n",
    "print(X_train_features.head())\n",
    "print(\"\\nVariable objetivo (y_train):\")\n",
    "print(y_train.head())\n",
    "print(X_test_cleaned.head())"
   ]
  },
  {
   "cell_type": "markdown",
   "metadata": {},
   "source": [
    "## Guardar los datasets X_train_features y_train y X_test en formato csv"
   ]
  },
  {
   "cell_type": "code",
   "execution_count": 1302,
   "metadata": {},
   "outputs": [
    {
     "name": "stdout",
     "output_type": "stream",
     "text": [
      "Los datasets se han guardado como 'X_train_features5.csv' y 'y_train5.csv'.\n",
      "El dataset se ha guardado como 'X_test_clean5.csv'.\n",
      "      brand     model    milage  fuel_type  transmission   ext_col   int_col  \\\n",
      "0  0.211008  1.001794  0.636302  -0.102818     -1.049137  1.288616 -0.613814   \n",
      "1  0.211008  0.976865 -1.132944   1.199524      0.104033  0.927500 -0.500395   \n",
      "2 -0.725140 -0.440257 -0.755054  -0.102818     -2.048551  1.288616  0.718869   \n",
      "3 -1.393817 -1.310856 -0.095265  -0.102818      0.719057  0.909884 -0.500395   \n",
      "4 -1.393817 -1.312774 -0.140224  -0.102818      0.642179 -0.252735 -0.500395   \n",
      "\n",
      "   accident       age  extracted_horsepower  extracted_engine_size  \\\n",
      "0  0.532848  0.140564             -0.910676              -1.318377   \n",
      "1  0.532848 -0.740684              0.445808              -0.581326   \n",
      "2  0.532848 -1.093183              0.270777              -0.212801   \n",
      "3  0.532848 -0.035686             -0.805658              -1.318377   \n",
      "4  0.532848 -0.388185             -0.805658              -1.318377   \n",
      "\n",
      "   transmission_type  \n",
      "0           -0.50318  \n",
      "1           -0.50318  \n",
      "2           -0.50318  \n",
      "3           -0.50318  \n",
      "4           -0.50318  \n"
     ]
    }
   ],
   "source": [
    "# Guardar X_train_features en un archivo CSV\n",
    "X_train_features.to_csv(r'C:\\Users\\Administrator\\Documents\\Proyecto regresion precio coches\\proyecto_regresion\\data\\X_train_features5.csv', index=False)\n",
    "\n",
    "# Guardar y_train en un archivo CSV\n",
    "y_train.to_csv(r'C:\\Users\\Administrator\\Documents\\Proyecto regresion precio coches\\proyecto_regresion\\data\\y_train5.csv', index=False)\n",
    "\n",
    "print(\"Los datasets se han guardado como 'X_train_features5.csv' y 'y_train5.csv'.\")\n",
    "\n",
    "\n",
    "\n",
    "# Renombrar X_test a X_test_cleaned\n",
    "X_test_cleaned = X_test_cleaned.copy()  # Hacer una copia si es necesario\n",
    "\n",
    "# Guardar X_test_clean en un archivo CSV\n",
    "X_test_cleaned.to_csv(r'C:\\Users\\Administrator\\Documents\\Proyecto regresion precio coches\\proyecto_regresion\\data\\X_test_clean5.csv', index=False)\n",
    "\n",
    "print(\"El dataset se ha guardado como 'X_test_clean5.csv'.\")\n",
    "\n",
    "print(X_test_cleaned.head())\n",
    "\n"
   ]
  }
 ],
 "metadata": {
  "kernelspec": {
   "display_name": "myenv",
   "language": "python",
   "name": "python3"
  },
  "language_info": {
   "codemirror_mode": {
    "name": "ipython",
    "version": 3
   },
   "file_extension": ".py",
   "mimetype": "text/x-python",
   "name": "python",
   "nbconvert_exporter": "python",
   "pygments_lexer": "ipython3",
   "version": "3.12.4"
  }
 },
 "nbformat": 4,
 "nbformat_minor": 2
}
